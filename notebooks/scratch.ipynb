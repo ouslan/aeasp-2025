{
 "cells": [
  {
   "cell_type": "code",
   "execution_count": null,
   "id": "030af737",
   "metadata": {},
   "outputs": [],
   "source": [
    "import os \n",
    "os.chdir(\"..\")"
   ]
  },
  {
   "cell_type": "code",
   "execution_count": null,
   "id": "f5acf4b3",
   "metadata": {},
   "outputs": [],
   "source": [
    "import polars as pl\n",
    "import geopandas as gpd\n",
    "import pandas as pd\n",
    "import arviz as az\n",
    "import matplotlib.pyplot as plt\n",
    "import numpy as np\n",
    "import pymc as pm\n",
    "import bambi as bmb\n",
    "from src.data_process import DataReg\n",
    "import requests\n",
    "\n",
    "import arviz as az\n",
    "\n",
    "import causalpy as cp\n",
    "\n",
    "az.style.use(\"arviz-darkgrid\")\n",
    "\n",
    "\n",
    "dr = DataReg(database_file=\"data.ddb\")"
   ]
  },
  {
   "cell_type": "code",
   "execution_count": null,
   "id": "7f650e97",
   "metadata": {},
   "outputs": [],
   "source": [
    "df = dr.data_set()\n",
    "df = df.filter(\n",
    "    (pl.col(\"industry_code\") == \"72\")\n",
    ")\n",
    "df = df.with_columns(\n",
    "    total_employment=(pl.col(\"month1_emplvl\") + pl.col(\"month2_emplvl\") + pl.col(\"month3_emplvl\")) / 3\n",
    ")\n",
    "remove = df.filter(pl.col(\"total_employment\") == 0).select(pl.col(\"area_fips\")).unique().to_series().to_list()"
   ]
  },
  {
   "cell_type": "code",
   "execution_count": null,
   "id": "f0083fde",
   "metadata": {},
   "outputs": [],
   "source": [
    "df = dr.data_set()\n",
    "df = df.filter(\n",
    "    (pl.col(\"industry_code\") == \"72\") &\n",
    "    (~pl.col(\"area_fips\").is_in(remove)) & \n",
    "    (pl.col(\"year\") < 2020)\n",
    "\n",
    ")\n",
    "# df = df.filter(\n",
    "#     (pl.col(\"area_fips\") == \"06081\") | (pl.col(\"fips\") == \"56\")\n",
    "# )\n",
    "\n",
    "\n",
    "# df = df.select(pl.col(\"area_fips\", \"year\", \"qtr\", \"avg_wkly_wage\", \"area_title\"))\n",
    "df = df.with_columns(\n",
    "    date=pl.col(\"year\").cast(pl.String) + \"Q\" + pl.col(\"qtr\").cast(pl.String),\n",
    "    dummy=pl.lit(1),\n",
    "    area_fips= \"i\" + pl.col(\"area_fips\"),\n",
    "    total_employment=((pl.col(\"month1_emplvl\") + pl.col(\"month2_emplvl\") + pl.col(\"month3_emplvl\")) /3).log()\n",
    ")\n",
    "# df.select(pl.col(\"area_fips\")).unique().to_series().to_list()\n",
    "df"
   ]
  },
  {
   "cell_type": "code",
   "execution_count": null,
   "id": "b759468c",
   "metadata": {},
   "outputs": [],
   "source": [
    "data  = df.pivot(on=\"area_fips\", index=\"date\", values=\"total_employment\").to_pandas().set_index(\"date\")\n",
    "data"
   ]
  },
  {
   "cell_type": "code",
   "execution_count": null,
   "id": "498212c8",
   "metadata": {},
   "outputs": [],
   "source": [
    "# get useful country lists\n",
    "target_country = \"i06081\"\n",
    "all_countries = data.columns\n",
    "other_countries = all_countries.difference({target_country})\n",
    "all_countries = list(all_countries)\n",
    "other_countries = list(other_countries)"
   ]
  },
  {
   "cell_type": "code",
   "execution_count": null,
   "id": "035c9806",
   "metadata": {},
   "outputs": [],
   "source": [
    "# Plot the time series normalised so that intervention point (Q3 2016) is equal to 100\n",
    "gdp_at_intervention = 20161\n",
    "\n",
    "\n",
    "# plot\n",
    "fig, ax = plt.subplots()\n",
    "for col in data.columns:\n",
    "    ax.plot(data.index, data[col], color=\"grey\", alpha=0.2)\n",
    "\n",
    "ax.plot(data.index, data[target_country], color=\"red\", lw=3)\n",
    "# ax = df_normalised.plot(legend=False)\n",
    "\n",
    "# formatting\n",
    "ax.set(title=\"Normalised GDP\")\n",
    "ax.axvline(x=20161, color=\"r\", ls=\":\")"
   ]
  },
  {
   "cell_type": "code",
   "execution_count": null,
   "id": "0136e9dc",
   "metadata": {},
   "outputs": [],
   "source": [
    "from scipy import stats\n",
    "y = data[\"i06081\"].values\n",
    "x = data[\"i01007\"].values\n",
    "l = []\n",
    "res = stats.pearsonr(x, y)\n",
    "for i in other_countries:\n",
    "    x = data[i].values\n",
    "    res = stats.pearsonr(x, y)\n",
    "    if res.pvalue < 0.001:\n",
    "        l.append(i)\n",
    "len(l)"
   ]
  },
  {
   "cell_type": "code",
   "execution_count": null,
   "id": "7d1e172f",
   "metadata": {},
   "outputs": [],
   "source": [
    "# build a model formula\n",
    "formula = target_country + \" ~ \" + \"0 + \" + \" + \".join(l)\n",
    "\n",
    "print(formula)"
   ]
  },
  {
   "cell_type": "code",
   "execution_count": null,
   "id": "f4d3c538",
   "metadata": {},
   "outputs": [],
   "source": [
    "sample_kwargs = {\"target_accept\": 0.99, \"random_seed\": 787}\n",
    "\n",
    "result = cp.SyntheticControl(\n",
    "    data,\n",
    "    20161,\n",
    "    formula=formula,\n",
    "    model=cp.pymc_models.WeightedSumFitter(sample_kwargs=sample_kwargs),\n",
    ")"
   ]
  },
  {
   "cell_type": "code",
   "execution_count": null,
   "id": "30bb6623",
   "metadata": {},
   "outputs": [],
   "source": [
    "# import aesara.tensor as at\n",
    "import arviz as az\n",
    "import matplotlib.pyplot as plt\n",
    "import numpy as np\n",
    "import pandas as pd\n",
    "import pymc as pm\n",
    "# import pymc.sampling_jax\n",
    "import seaborn as sns\n",
    "\n",
    "# plt.style.use(\"bmh\")\n",
    "# plt.rcParams[\"figure.figsize\"] = [10, 6]\n",
    "# plt.rcParams[\"figure.dpi\"] = 100\n",
    "# plt.rcParams[\"figure.facecolor\"] = \"white\"\n"
   ]
  },
  {
   "cell_type": "code",
   "execution_count": null,
   "id": "e455196e",
   "metadata": {},
   "outputs": [],
   "source": [
    "data_path = \"https://raw.githubusercontent.com/matheusfacure/python-causality-handbook/master/causal-inference-for-the-brave-and-true/data/smoking.csv\"\n",
    "\n",
    "raw_data_df = pd.read_csv(data_path)\n",
    "\n",
    "raw_data_df.head()"
   ]
  },
  {
   "cell_type": "code",
   "execution_count": null,
   "id": "9e59e197",
   "metadata": {},
   "outputs": [],
   "source": [
    "df = raw_data_df.copy().drop(columns=[\"lnincome\", \"beer\", \"age15to24\"])\n",
    "df"
   ]
  },
  {
   "cell_type": "code",
   "execution_count": null,
   "id": "92af0228",
   "metadata": {},
   "outputs": [],
   "source": [
    "df.columns"
   ]
  },
  {
   "cell_type": "code",
   "execution_count": null,
   "id": "47efbb78",
   "metadata": {},
   "outputs": [],
   "source": [
    "data = df.select(pl.col(\"area_fips\", \"date\", \"total_employment\")).with_columns(controls=pl.when(pl.col(\"area_fips\") == \"i06081\").then(True).otherwise(False)).to_pandas()\n",
    "data[\"date\"] = pd.PeriodIndex(df['date'], freq='Q').to_timestamp()\n",
    "data"
   ]
  },
  {
   "cell_type": "code",
   "execution_count": null,
   "id": "08141a86",
   "metadata": {},
   "outputs": [],
   "source": [
    "print(data['date'].dtype)"
   ]
  },
  {
   "cell_type": "code",
   "execution_count": null,
   "id": "7d0ea191",
   "metadata": {},
   "outputs": [],
   "source": [
    "fig, ax = plt.subplots()\n",
    "\n",
    "(\n",
    "    data.groupby([\"date\", \"controls\"], as_index=False)\n",
    "    .agg({\"total_employment\": np.mean})\n",
    "    .pipe(\n",
    "        (sns.lineplot, \"data\"),\n",
    "        x=\"date\",\n",
    "        y=\"total_employment\",\n",
    "        hue=\"controls\",\n",
    "        marker=\"o\",\n",
    "        ax=ax,\n",
    "    )\n",
    ")\n",
    "ax.axvline(\n",
    "    x=pd.to_datetime(\"2016-01-01\"),\n",
    "    linestyle=\":\",\n",
    "    lw=2,\n",
    "    color=\"C2\",\n",
    "    label=\"Proposition 99\",\n",
    ")\n",
    "\n",
    "ax.legend(loc=\"upper right\")\n",
    "ax.set(\n",
    "    title=\"Gap in per-capita cigarette sales (in packs)\",\n",
    "    ylabel=\"Cigarette Sales Trend\"\n",
    ")\n"
   ]
  },
  {
   "cell_type": "code",
   "execution_count": null,
   "id": "f58c65f5",
   "metadata": {},
   "outputs": [],
   "source": [
    "fig, ax = plt.subplots()\n",
    "\n",
    "(\n",
    "    df.groupby([\"year\", \"california\"], as_index=False)\n",
    "    .agg({\"cigsale\": np.mean})\n",
    "    .pipe(\n",
    "        (sns.lineplot, \"data\"),\n",
    "        x=\"year\",\n",
    "        y=\"cigsale\",\n",
    "        hue=\"california\",\n",
    "        marker=\"o\",\n",
    "        ax=ax,\n",
    "    )\n",
    ")\n",
    "ax.axvline(\n",
    "    x=1988,\n",
    "    linestyle=\":\",\n",
    "    lw=2,\n",
    "    color=\"C2\",\n",
    "    label=\"Proposition 99\",\n",
    ")\n",
    "ax.legend(loc=\"upper right\")\n",
    "ax.set(\n",
    "    title=\"Gap in per-capita cigarette sales (in packs)\",\n",
    "    ylabel=\"Cigarette Sales Trend\"\n",
    ")\n"
   ]
  },
  {
   "cell_type": "code",
   "execution_count": null,
   "id": "649fbfdf",
   "metadata": {},
   "outputs": [],
   "source": []
  },
  {
   "cell_type": "code",
   "execution_count": null,
   "id": "f29e3d08",
   "metadata": {},
   "outputs": [],
   "source": [
    "features = [\"total_employment\"]\n",
    "\n",
    "pre_df = (\n",
    "    data\n",
    "    .query(\"~ after_treatment\")\n",
    "    .pivot(index='state', columns=\"year\", values=features)\n",
    "    .T\n",
    ")\n",
    "\n",
    "post_df = (\n",
    "    data\n",
    "    .query(\"after_treatment\")\n",
    "    .pivot(index='state', columns=\"year\", values=features)\n",
    "    .T\n",
    ")"
   ]
  },
  {
   "cell_type": "code",
   "execution_count": null,
   "id": "a2e1cc61",
   "metadata": {},
   "outputs": [],
   "source": [
    "idx = 3\n",
    "\n",
    "y_pre = pre_df[idx].to_numpy()\n",
    "x_pre = pre_df.drop(columns=idx).to_numpy()\n",
    "pre_years = pre_df.reset_index(inplace=False).year.unique()\n",
    "n_pre = pre_years.size\n",
    "\n",
    "y_post = post_df[idx].to_numpy()\n",
    "x_post = post_df.drop(columns=idx).to_numpy()\n",
    "post_years = post_df.reset_index(inplace=False).year.unique()\n",
    "n_post = post_years.size\n",
    "\n",
    "k = pre_df.shape[1] - 1"
   ]
  },
  {
   "cell_type": "code",
   "execution_count": null,
   "id": "88445466",
   "metadata": {},
   "outputs": [],
   "source": [
    "with pm.Model() as model:\n",
    "    x = pm.Data(name=\"x\", value=x_pre)\n",
    "    y = pm.Data(name=\"y\", value=y_pre)\n",
    "    beta = pm.Dirichlet(name=\"beta\", a=(1 / k) * np.ones(k))\n",
    "    sigma = pm.HalfNormal(name=\"sigma\", sigma=5)\n",
    "    mu = pm.Deterministic(name=\"mu\", var=pm.math.dot(x, beta))\n",
    "    likelihood = pm.Normal(name=\"likelihood\", mu=mu, sigma=sigma, observed=y)\n",
    "\n",
    "pm.model_to_graphviz(model)"
   ]
  },
  {
   "cell_type": "code",
   "execution_count": null,
   "id": "aa7d95bf",
   "metadata": {},
   "outputs": [],
   "source": [
    "with model:\n",
    "    idata = pm.sample(draws=4000, chains=4)\n",
    "    posterior_predictive_pre = pm.sample_posterior_predictive(trace=idata)"
   ]
  },
  {
   "cell_type": "code",
   "execution_count": null,
   "id": "abec2780",
   "metadata": {},
   "outputs": [],
   "source": [
    "az.plot_forest(data=idata, combined=True, var_names=[\"beta\"])"
   ]
  },
  {
   "cell_type": "code",
   "execution_count": null,
   "id": "ce774eba",
   "metadata": {},
   "outputs": [],
   "source": [
    "with model:\n",
    "    pm.set_data(new_data={\"x\": x_post, \"y\": y_post})\n",
    "    posterior_predictive_post = pm.sample_posterior_predictive(\n",
    "        trace=idata, var_names=[\"likelihood\"]\n",
    "    )"
   ]
  },
  {
   "cell_type": "code",
   "execution_count": null,
   "id": "5ed02964",
   "metadata": {},
   "outputs": [],
   "source": [
    "pre_posterior_mean = (\n",
    "    posterior_predictive_pre.posterior_predictive[\"likelihood\"][:, :, :n_pre]\n",
    "    .stack(samples=(\"chain\", \"draw\"))\n",
    "    .mean(axis=1)\n",
    ")\n",
    "\n",
    "post_posterior_mean = (\n",
    "    posterior_predictive_post.posterior_predictive[\"likelihood\"][:, :, :n_post]\n",
    "    .stack(samples=(\"chain\", \"draw\"))\n",
    "    .mean(axis=1)\n",
    ")\n",
    "\n",
    "\n",
    "fig, ax = plt.subplots()\n",
    "\n",
    "(\n",
    "    df.groupby([\"year\", \"california\"], as_index=False)\n",
    "    .agg({\"cigsale\": np.mean})\n",
    "    .assign(\n",
    "        california=lambda x: x.california.map(\n",
    "            {True: \"is_california\", False: \"is_not_california\"}\n",
    "        )\n",
    "    )\n",
    "    .pipe(\n",
    "        (sns.lineplot, \"data\"),\n",
    "        x=\"year\",\n",
    "        y=\"cigsale\",\n",
    "        hue=\"california\",\n",
    "        alpha=0.5,\n",
    "        ax=ax,\n",
    "    )\n",
    ")\n",
    "ax.axvline(\n",
    "    x=1988,\n",
    "    linestyle=\":\",\n",
    "    lw=2,\n",
    "    color=\"C2\",\n",
    "    label=\"Proposition 99\",\n",
    ")\n",
    "sns.lineplot(\n",
    "    x=pre_years,\n",
    "    y=pre_posterior_mean,\n",
    "    color=\"C1\",\n",
    "    marker=\"o\",\n",
    "    label=\"pre-treatment posterior predictive mean\",\n",
    "    ax=ax,\n",
    ")\n",
    "sns.lineplot(\n",
    "    x=post_years,\n",
    "    y=post_posterior_mean,\n",
    "    color=\"C2\",\n",
    "    marker=\"o\",\n",
    "    label=\"post-treatment posterior predictive mean\",\n",
    "    ax=ax,\n",
    ")\n",
    "az.plot_hdi(\n",
    "    x=pre_years,\n",
    "    y=posterior_predictive_pre.posterior_predictive[\"likelihood\"][:, :, :n_pre],\n",
    "    smooth=True,\n",
    "    color=\"C1\",\n",
    "    fill_kwargs={\"label\": \"pre-treatment posterior predictive (94% HDI)\"},\n",
    "    ax=ax,\n",
    ")\n",
    "az.plot_hdi(\n",
    "    x=post_years,\n",
    "    y=posterior_predictive_post.posterior_predictive[\"likelihood\"][:, :, :n_post],\n",
    "    smooth=True,\n",
    "    color=\"C2\",\n",
    "    fill_kwargs={\"label\": \"post-treatment posterior predictive (94% HDI)\"},\n",
    "    ax=ax,\n",
    ")\n",
    "ax.legend(loc=\"lower left\")\n",
    "ax.set(\n",
    "    title=\"Gap in per-capita cigarette sales (in packs)\", ylabel=\"Cigarette Sales Trend\"\n",
    ")"
   ]
  }
 ],
 "metadata": {
  "kernelspec": {
   "display_name": ".venv",
   "language": "python",
   "name": "python3"
  },
  "language_info": {
   "codemirror_mode": {
    "name": "ipython",
    "version": 3
   },
   "file_extension": ".py",
   "mimetype": "text/x-python",
   "name": "python",
   "nbconvert_exporter": "python",
   "pygments_lexer": "ipython3",
   "version": "3.10.18"
  }
 },
 "nbformat": 4,
 "nbformat_minor": 5
}
