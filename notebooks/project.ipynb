{
 "cells": [
  {
   "cell_type": "code",
   "execution_count": null,
   "id": "ea225831",
   "metadata": {},
   "outputs": [],
   "source": [
    "import os \n",
    "os.chdir(\"..\")"
   ]
  },
  {
   "cell_type": "code",
   "execution_count": null,
   "id": "e06029c1",
   "metadata": {},
   "outputs": [],
   "source": [
    "\n",
    "import matplotlib.pyplot as plt\n",
    "from src.data_process import DataReg\n",
    "\n",
    "plt.style.use(\"bmh\")\n",
    "plt.rcParams[\"figure.figsize\"] = [10, 6]\n",
    "plt.rcParams[\"figure.dpi\"] = 100\n",
    "plt.rcParams[\"figure.facecolor\"] = \"white\"\n",
    "\n",
    "dr = DataReg(database_file=\"data.ddb\")"
   ]
  },
  {
   "cell_type": "code",
   "execution_count": null,
   "id": "06865471",
   "metadata": {},
   "outputs": [],
   "source": [
    "controls = dr.controls_list(target=\"i06081\")\n",
    "# data = dr.synth_data(controls=controls, target=\"i06081\", date=\"2016-01-01\")\n",
    "dr.synth_freq(controls=controls, target=\"i06081\", date=\"2016-01-01\")\n"
   ]
  },
  {
   "cell_type": "code",
   "execution_count": null,
   "id": "9d2c1df1",
   "metadata": {},
   "outputs": [],
   "source": [
    "controls = dr.controls_list(target=\"i26065\")\n",
    "# data = dr.synth_data(controls=controls, target=\"i06081\", date=\"2016-01-01\")\n",
    "dr.synth_freq(controls=controls, target=\"i26065\", date=\"2016-01-01\")\n"
   ]
  },
  {
   "cell_type": "code",
   "execution_count": null,
   "id": "3d5cf338",
   "metadata": {},
   "outputs": [],
   "source": []
  }
 ],
 "metadata": {
  "language_info": {
   "name": "python"
  }
 },
 "nbformat": 4,
 "nbformat_minor": 5
}
