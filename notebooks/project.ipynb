{
 "cells": [
  {
   "cell_type": "code",
   "execution_count": null,
   "id": "ea225831",
   "metadata": {},
   "outputs": [],
   "source": [
    "import os \n",
    "os.chdir(\"..\")"
   ]
  },
  {
   "cell_type": "code",
   "execution_count": null,
   "id": "e06029c1",
   "metadata": {},
   "outputs": [],
   "source": [
    "\n",
    "import matplotlib.pyplot as plt\n",
    "from src.data_process import DataReg\n",
    "import polars as pl\n",
    "\n",
    "plt.style.use(\"bmh\")\n",
    "plt.rcParams[\"figure.figsize\"] = [10, 6]\n",
    "plt.rcParams[\"figure.dpi\"] = 100\n",
    "plt.rcParams[\"figure.facecolor\"] = \"white\"\n",
    "\n",
    "dr = DataReg(database_file=\"data.ddb\")"
   ]
  },
  {
   "cell_type": "code",
   "execution_count": null,
   "id": "f8d2a4a2",
   "metadata": {},
   "outputs": [],
   "source": [
    "dr.pull_dp03()"
   ]
  },
  {
   "cell_type": "code",
   "execution_count": null,
   "id": "726ae84f",
   "metadata": {},
   "outputs": [],
   "source": [
    "target = \"i06081\""
   ]
  },
  {
   "cell_type": "code",
   "execution_count": null,
   "id": "27cec183",
   "metadata": {},
   "outputs": [],
   "source": [
    "gdf = dr.pull_county_shapes()\n",
    "controls = dr.controls_list(target=\"i06081\")"
   ]
  },
  {
   "cell_type": "code",
   "execution_count": null,
   "id": "385297ef",
   "metadata": {},
   "outputs": [],
   "source": [
    "gdf[\"area_fips\"] = \"i\" + gdf[\"area_fips\"]"
   ]
  },
  {
   "cell_type": "code",
   "execution_count": null,
   "id": "2b3ef5b9",
   "metadata": {},
   "outputs": [],
   "source": [
    "gdf[\"is_control\"] = gdf[\"area_fips\"].isin(controls).astype(int)\n"
   ]
  },
  {
   "cell_type": "code",
   "execution_count": null,
   "id": "0bed5c29",
   "metadata": {},
   "outputs": [],
   "source": [
    "mainland_fips = [\n",
    "    \"01\", \"04\", \"05\", \"06\", \"08\", \"09\", \"10\", \"11\", \"12\", \"13\",\n",
    "    \"17\", \"18\", \"19\", \"20\", \"21\", \"22\", \"23\", \"24\", \"25\", \"26\",\n",
    "    \"27\", \"28\", \"29\", \"30\", \"31\", \"32\", \"33\", \"34\", \"35\", \"36\",\n",
    "    \"37\", \"38\", \"39\", \"40\", \"41\", \"42\", \"44\", \"45\", \"46\", \"47\",\n",
    "    \"48\", \"49\", \"50\", \"51\", \"53\", \"54\", \"55\", \"16\", \"56\"\n",
    "]\n"
   ]
  },
  {
   "cell_type": "code",
   "execution_count": null,
   "id": "524f5c9c",
   "metadata": {},
   "outputs": [],
   "source": [
    "gdf[(gdf[\"fips\"].isin(mainland_fips))].plot(\"is_control\")"
   ]
  },
  {
   "cell_type": "code",
   "execution_count": null,
   "id": "f402a728",
   "metadata": {},
   "outputs": [],
   "source": [
    "\n",
    "# data = dr.synth_data(controls=controls, target=\"i06081\", date=\"2016-01-01\")\n",
    "dr.synth_freq(controls=controls, target=\"i06081\", date=\"2017-01-01\")"
   ]
  },
  {
   "cell_type": "code",
   "execution_count": null,
   "id": "06865471",
   "metadata": {},
   "outputs": [],
   "source": [
    "controls = dr.controls_list(target=\"i06081\")\n",
    "# data = dr.synth_data(controls=controls, target=\"i06081\", date=\"2016-01-01\")\n",
    "dr.synth_freq(controls=controls, target=\"i06081\", date=\"2017-01-01\")\n"
   ]
  },
  {
   "cell_type": "code",
   "execution_count": null,
   "id": "9d2c1df1",
   "metadata": {},
   "outputs": [],
   "source": [
    "controls = dr.controls_list(target=\"i26065\")\n",
    "# data = dr.synth_data(controls=controls, target=\"i06081\", date=\"2016-01-01\")\n",
    "dr.synth_freq(controls=controls, target=\"i26065\", date=\"2016-01-01\")\n"
   ]
  },
  {
   "cell_type": "code",
   "execution_count": null,
   "id": "3d5cf338",
   "metadata": {},
   "outputs": [],
   "source": []
  }
 ],
 "metadata": {
  "kernelspec": {
   "display_name": ".venv",
   "language": "python",
   "name": "python3"
  },
  "language_info": {
   "codemirror_mode": {
    "name": "ipython",
    "version": 3
   },
   "file_extension": ".py",
   "mimetype": "text/x-python",
   "name": "python",
   "nbconvert_exporter": "python",
   "pygments_lexer": "ipython3",
   "version": "3.10.18"
  }
 },
 "nbformat": 4,
 "nbformat_minor": 5
}
