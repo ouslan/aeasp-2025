{
 "cells": [
  {
   "cell_type": "code",
   "execution_count": null,
   "id": "f50959a9",
   "metadata": {},
   "outputs": [],
   "source": [
    "import os \n",
    "os.chdir(\"..\")"
   ]
  },
  {
   "cell_type": "code",
   "execution_count": null,
   "id": "1f845f85",
   "metadata": {},
   "outputs": [],
   "source": [
    "from src.data_process import DataReg\n",
    "\n",
    "dr = DataReg(database_file=\"data.ddb\")"
   ]
  },
  {
   "cell_type": "code",
   "execution_count": null,
   "id": "2ca79e81",
   "metadata": {},
   "outputs": [],
   "source": [
    "dr.pull_dp03()"
   ]
  },
  {
   "cell_type": "code",
   "execution_count": null,
   "id": "d10195ad",
   "metadata": {},
   "outputs": [],
   "source": [
    "dr.pull_dp03().columns"
   ]
  }
 ],
 "metadata": {
  "kernelspec": {
   "display_name": ".venv",
   "language": "python",
   "name": "python3"
  },
  "language_info": {
   "codemirror_mode": {
    "name": "ipython",
    "version": 3
   },
   "file_extension": ".py",
   "mimetype": "text/x-python",
   "name": "python",
   "nbconvert_exporter": "python",
   "pygments_lexer": "ipython3",
   "version": "3.10.18"
  }
 },
 "nbformat": 4,
 "nbformat_minor": 5
}
