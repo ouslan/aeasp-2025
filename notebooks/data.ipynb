{
 "cells": [
  {
   "cell_type": "code",
   "execution_count": null,
   "id": "f50959a9",
   "metadata": {},
   "outputs": [],
   "source": [
    "import os \n",
    "os.chdir(\"..\")"
   ]
  },
  {
   "cell_type": "code",
   "execution_count": null,
   "id": "1f845f85",
   "metadata": {},
   "outputs": [],
   "source": [
    "from src.data_process import DataReg\n",
    "import polars as pl\n",
    "\n",
    "dr = DataReg(database_file=\"data.ddb\")"
   ]
  },
  {
   "cell_type": "code",
   "execution_count": null,
   "id": "2ca79e81",
   "metadata": {},
   "outputs": [],
   "source": [
    "df = dr.conn.sql(\n",
    "            \"\"\"\n",
    "            SELECT * FROM 'QCEWTable' \n",
    "                WHERE agglvl_code=76 AND own_code=5 AND industry_code=6211;\n",
    "            \"\"\"\n",
    "        ).pl()\n",
    "df"
   ]
  },
  {
   "cell_type": "code",
   "execution_count": null,
   "id": "f1a15c94",
   "metadata": {},
   "outputs": [],
   "source": [
    "df_min = dr.pull_min_wage()\n",
    "df_min = df_min.with_columns(\n",
    "    min_wage=pl.col(\"min_wage\").str.replace(\"$\", \"\", literal=True),\n",
    "    year=pl.col(\"year\").cast(pl.String),\n",
    ")\n",
    "df_shape = pl.from_pandas(dr.pull_states_shapes())\n",
    "df_min = df_min.join(df_shape, on=\"state_name\", how=\"inner\", validate=\"m:1\")\n",
    "\n",
    "df = dr.conn.sql(\n",
    "    \"\"\"\n",
    "    SELECT * FROM 'QCEWTable' \n",
    "        WHERE agglvl_code=76 AND own_code=5;\n",
    "    \"\"\"\n",
    ").pl()\n",
    "df = df.with_columns(area_fips=pl.col(\"area_fips\").str.zfill(5))\n",
    "df = df.with_columns(\n",
    "    fips=pl.col(\"area_fips\").str.slice(0, 2),\n",
    ")\n",
    "df = df.join(df_min, on=[\"fips\", \"year\"], how=\"inner\", validate=\"m:1\")\n",
    "df = df.with_columns(\n",
    "    qtr=pl.col(\"qtr\").cast(pl.Int32), year=pl.col(\"year\").cast(pl.Int32)\n",
    ")\n",
    "\n",
    "df = df.filter((pl.col(\"industry_code\") == \"6211\"))\n",
    "df = df.with_columns(\n",
    "    date=pl.col(\"year\").cast(pl.String) + \"Q\" + pl.col(\"qtr\").cast(pl.String),\n",
    "    dummy=pl.lit(1),\n",
    "    area_fips=\"i\" + pl.col(\"area_fips\"),\n",
    "    total_employment=(\n",
    "        (\n",
    "            pl.col(\"month1_emplvl\")\n",
    "            + pl.col(\"month2_emplvl\")\n",
    "            + pl.col(\"month3_emplvl\")\n",
    "        )\n",
    "        / 3\n",
    "    ),\n",
    ")"
   ]
  },
  {
   "cell_type": "code",
   "execution_count": null,
   "id": "c29e9d02",
   "metadata": {},
   "outputs": [],
   "source": [
    "df.select(pl.col(\"area_fips\", \"fips\", \"date\", \"total_employment\", \"avg_wkly_wage\")).write_csv(\"qcew_data_health.csv\")"
   ]
  },
  {
   "cell_type": "code",
   "execution_count": null,
   "id": "d10195ad",
   "metadata": {},
   "outputs": [],
   "source": [
    "dr.data_set(naics=\"62\")"
   ]
  }
 ],
 "metadata": {
  "kernelspec": {
   "display_name": ".venv",
   "language": "python",
   "name": "python3"
  },
  "language_info": {
   "codemirror_mode": {
    "name": "ipython",
    "version": 3
   },
   "file_extension": ".py",
   "mimetype": "text/x-python",
   "name": "python",
   "nbconvert_exporter": "python",
   "pygments_lexer": "ipython3",
   "version": "3.10.18"
  }
 },
 "nbformat": 4,
 "nbformat_minor": 5
}
