{
 "cells": [
  {
   "cell_type": "code",
   "execution_count": null,
   "id": "1e29c226",
   "metadata": {},
   "outputs": [],
   "source": [
    "import os \n",
    "os.chdir(\"..\")"
   ]
  },
  {
   "cell_type": "code",
   "execution_count": null,
   "id": "c7b8fa65",
   "metadata": {},
   "outputs": [],
   "source": [
    "import requests\n",
    "from tqdm import tqdm\n",
    "import polars as pl\n",
    "from src.data_pull import DataPull\n",
    "\n",
    "dp = DataPull()"
   ]
  },
  {
   "cell_type": "code",
   "execution_count": null,
   "id": "212a9128",
   "metadata": {},
   "outputs": [],
   "source": [
    "county = \"01001\"\n",
    "year = \"2021\"\n",
    "qrt = \"2\"\n",
    "\n",
    "dp.pull_qcew()"
   ]
  },
  {
   "cell_type": "code",
   "execution_count": null,
   "id": "12552898",
   "metadata": {},
   "outputs": [],
   "source": [
    "dp.pull_qcew_file(year=2020,qtr=1,county=\"02010\")"
   ]
  },
  {
   "cell_type": "code",
   "execution_count": null,
   "id": "aec4ac60",
   "metadata": {},
   "outputs": [],
   "source": [
    "df = pl.read_csv(\"data/external/county.csv\")\n",
    "df = df.filter(~pl.col(\"area_title\").str.contains(\"Statewide\"))\n",
    "df = df.filter(~(pl.col(\"area_fips\").str.contains(\"US\")) & ~(pl.col(\"area_fips\").str.contains(\"C\")))\n",
    "df.filter(pl.col(\"area_fips\")  == \"09110\").write"
   ]
  },
  {
   "cell_type": "code",
   "execution_count": null,
   "id": "08a77b9d",
   "metadata": {},
   "outputs": [],
   "source": [
    "df = pl.read_csv(\"test.csv\")\n",
    "# df = df.filter(pl.col(\"agglvl_code\") == 74)\n",
    "df = df.select(pl.col([\"area_fips\", \"year\", \"qtr\", \"own_code\", \"industry_code\", \"month1_emplvl\",\"month2_emplvl\", \"month3_emplvl\", \"total_qtrly_wages\", \"qtrly_estabs\"]))\n",
    "df"
   ]
  },
  {
   "cell_type": "code",
   "execution_count": null,
   "id": "e6382dc5",
   "metadata": {},
   "outputs": [],
   "source": []
  }
 ],
 "metadata": {
  "kernelspec": {
   "display_name": ".venv",
   "language": "python",
   "name": "python3"
  },
  "language_info": {
   "codemirror_mode": {
    "name": "ipython",
    "version": 3
   },
   "file_extension": ".py",
   "mimetype": "text/x-python",
   "name": "python",
   "nbconvert_exporter": "python",
   "pygments_lexer": "ipython3",
   "version": "3.12.10"
  }
 },
 "nbformat": 4,
 "nbformat_minor": 5
}
