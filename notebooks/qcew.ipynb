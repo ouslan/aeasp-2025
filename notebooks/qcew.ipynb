{
 "cells": [
  {
   "cell_type": "code",
   "execution_count": null,
   "id": "1e29c226",
   "metadata": {},
   "outputs": [],
   "source": [
    "import os \n",
    "os.chdir(\"..\")"
   ]
  },
  {
   "cell_type": "code",
   "execution_count": null,
   "id": "c7b8fa65",
   "metadata": {},
   "outputs": [],
   "source": [
    "import polars as pl\n",
    "import geopandas as gpd\n",
    "import pandas as pd\n",
    "import arviz as az\n",
    "import numpy as np\n",
    "import bambi as bmb\n",
    "from src.data_pull import DataPull\n",
    "import requests\n",
    "import missingno as msno\n",
    "\n",
    "\n",
    "az.style.use(\"arviz-darkgrid\")\n",
    "\n",
    "\n",
    "dp = DataPull(database_file=\"data3.ddb\")"
   ]
  },
  {
   "cell_type": "code",
   "execution_count": null,
   "id": "d9af8738",
   "metadata": {},
   "outputs": [],
   "source": [
    "df_min = dp.pull_min_wage()\n",
    "df_min = df_min.with_columns(min_wage=pl.col(\"min_wage\").str.replace(\"$\",\"\",literal=True))\n",
    "df_shpae = pl.from_pandas(dp.pull_states_shapes().drop(\"geometry\", axis=1))\n",
    "df_min = df_min.join(\n",
    "    df_shpae,\n",
    "    on=\"state_name\",\n",
    "    how=\"inner\",\n",
    "    validate=\"m:1\"\n",
    ")\n",
    "df_min = df_min.with_columns(pl.col(\"year\").cast(pl.String))\n",
    "var = \"area_fips,year,qtr,industry_code,agglvl_code,month1_emplvl,month2_emplvl,month3_emplvl,total_qtrly_wages,avg_wkly_wage,qtrly_estabs\"\n",
    "df = dp.conn.sql(\n",
    "    f\"\"\"\n",
    "    SELECT {var} FROM 'QCEWTable' \n",
    "        WHERE agglvl_code=74;\n",
    "    \"\"\"\n",
    ").pl()\n",
    "df = df.with_columns(\n",
    "    area_fips=pl.col(\"area_fips\").str.zfill(5)\n",
    ")\n",
    "df = df.with_columns(\n",
    "    fips=pl.col(\"area_fips\").str.slice(0,2)\n",
    ")\n",
    "df = df.join(\n",
    "    df_min,\n",
    "    on=[\"fips\",\"year\"],\n",
    "    how=\"inner\",\n",
    "    validate=\"m:1\"\n",
    ")"
   ]
  },
  {
   "cell_type": "code",
   "execution_count": null,
   "id": "a0c82cda",
   "metadata": {},
   "outputs": [],
   "source": [
    "naics_code = [\n",
    "        \"11\",\n",
    "        \"21\",\n",
    "        \"22\",\n",
    "        \"31-33\",\n",
    "        \"42\",\n",
    "        \"48-49\",\n",
    "        \"51\",\n",
    "        \"55\",\n",
    "        \"61\",\n",
    "        \"71\",\n",
    "        \"72\",\n",
    "        \"81\",\n",
    "        \"92\",\n",
    "        \"23\",\n",
    "        \"44-45\",\n",
    "        \"52\",\n",
    "        \"54\",\n",
    "        \"56\",\n",
    "        \"62\",\n",
    "    ]"
   ]
  },
  {
   "cell_type": "code",
   "execution_count": null,
   "id": "9ef862e5",
   "metadata": {},
   "outputs": [],
   "source": [
    "fips_list = dp.pull_states_shapes()[\"fips\"].to_list()\n",
    "# not_valid =[\"17\",\"01\"]\n",
    "# \n",
    "not_valid = ['17',\n",
    " '27',\n",
    " '50',\n",
    " '31',\n",
    " '22',\n",
    " '13',\n",
    " '01',\n",
    " '39',\n",
    " '45',\n",
    " '40',\n",
    " '47',\n",
    " '32',\n",
    " '26',\n",
    " '05',\n",
    " '28',\n",
    " '30',\n",
    " '18',\n",
    " '72',\n",
    " '51']\n",
    "fips_list = list(set(fips_list) - set(not_valid))\n",
    "\n",
    "for fips in fips_list:\n",
    "    for naics in naics_code:\n",
    "        data = df.filter((pl.col(\"fips\") == fips) & (pl.col(\"industry_code\") == naics))\n",
    "        data = data.with_columns(\n",
    "    k_index=(pl.col(\"min_wage\").cast(pl.Float64) * 8 * 5) / pl.col(\"avg_wkly_wage\"),\n",
    "    employment=(pl.col(\"month1_emplvl\") + pl.col(\"month2_emplvl\") + pl.col(\"month3_emplvl\"))/3\n",
    ")\n",
    "        data = data.with_columns(\n",
    "            log_k_index=pl.col(\"k_index\").log(),\n",
    "            log_employment=pl.col(\"employment\").log()\n",
    "        )\n",
    "        data = data.to_pandas()\n",
    "        data[\"date\"] = data[\"year\"].astype(int) * 10 + data[\"qtr\"].astype(int)\n",
    "        data[\"date\"] = data[\"date\"].astype(\"category\")\n",
    "        data[\"area_fips\"] = data[\"area_fips\"].astype(\"category\")\n",
    "        data = data.sort_values([\"year\", \"qtr\", \"area_fips\"]).reset_index(drop=True)\n",
    "        data = data.replace([np.inf, -np.inf], np.nan)\n",
    "        model = bmb.Model(\n",
    "    \"log_employment ~ 0 + area_fips + date + log_k_index\",\n",
    "    data,\n",
    "    dropna=True,\n",
    ")\n",
    "\n",
    "        results = model.fit(\n",
    "        cores=10,\n",
    "        chains=10,\n",
    ")\n",
    "        az.to_netcdf(results, f\"data/processed/results_{fips}_{naics}.nc\")"
   ]
  },
  {
   "cell_type": "code",
   "execution_count": null,
   "id": "4c17a14b",
   "metadata": {},
   "outputs": [],
   "source": [
    "data.with_columns(min_wage=pl.col(\"min_wage\").str.replace(\"$\",\"\", literal=True))"
   ]
  },
  {
   "cell_type": "code",
   "execution_count": null,
   "id": "ebf3c32d",
   "metadata": {},
   "outputs": [],
   "source": [
    "data = df.filter((pl.col(\"fips\") == \"06\") & (pl.col(\"industry_code\") == \"21\"))\n",
    "data = data.with_columns(\n",
    "    k_index=(pl.col(\"min_wage\").cast(pl.Float64) * 8 * 5) / pl.col(\"avg_wkly_wage\"),\n",
    "    employment=(pl.col(\"month1_emplvl\") + pl.col(\"month2_emplvl\") + pl.col(\"month3_emplvl\"))/3\n",
    ")\n",
    "data = data.with_columns(\n",
    "    log_k_index=pl.col(\"k_index\").log(),\n",
    "    log_employment=pl.col(\"employment\").log()\n",
    ")\n",
    "data = data.to_pandas()\n",
    "data[\"date\"] = data[\"year\"].astype(int) * 10 + data[\"qtr\"].astype(int)\n",
    "data[\"date\"] = data[\"date\"].astype(\"category\")\n",
    "data[\"area_fips\"] = data[\"area_fips\"].astype(\"category\")\n",
    "data = data.sort_values([\"year\", \"qtr\", \"area_fips\"]).reset_index(drop=True)\n",
    "data = data.replace([np.inf, -np.inf], np.nan)\n",
    "data"
   ]
  },
  {
   "cell_type": "code",
   "execution_count": null,
   "id": "80dc7eb3",
   "metadata": {},
   "outputs": [],
   "source": [
    "model = bmb.Model(\n",
    "    \"log_employment ~ 0 + area_fips + date + log_k_index\",\n",
    "    data,\n",
    "    dropna=True,\n",
    ")\n",
    "\n",
    "results = model.fit(\n",
    "        sample_kwargs={\"draws\": 500, \"tune\": 500, \"target_accept\": 0.8},\n",
    "        cores=10,\n",
    "        chains=10,\n",
    ")"
   ]
  },
  {
   "cell_type": "code",
   "execution_count": null,
   "id": "07f2b6ae",
   "metadata": {},
   "outputs": [],
   "source": [
    "# Plot posteriors\n",
    "az.plot_trace(\n",
    "    results,\n",
    "    compact=True,\n",
    ")"
   ]
  },
  {
   "cell_type": "code",
   "execution_count": null,
   "id": "760b9722",
   "metadata": {},
   "outputs": [],
   "source": [
    "az.summary(results)"
   ]
  },
  {
   "cell_type": "code",
   "execution_count": null,
   "id": "be0d8f52",
   "metadata": {},
   "outputs": [],
   "source": [
    "df.join(\n",
    "    df_min,\n",
    "    on=[\"fips\",\"year\"],\n",
    "    how=\"inner\",\n",
    "    validate=\"m:1\"\n",
    ")"
   ]
  },
  {
   "cell_type": "code",
   "execution_count": null,
   "id": "d01324e9",
   "metadata": {},
   "outputs": [],
   "source": [
    "df"
   ]
  },
  {
   "cell_type": "code",
   "execution_count": null,
   "id": "0acd8d37",
   "metadata": {},
   "outputs": [],
   "source": [
    "var = \"area_fips,year,qtr,industry_code,agglvl_code,month1_emplvl,month2_emplvl,month3_emplvl,total_qtrly_wages,avg_wkly_wage,qtrly_estabs\"\n",
    "df = dp.conn.sql(\n",
    "    f\"\"\"\n",
    "    SELECT {var} FROM 'QCEWTable' \n",
    "        WHERE agglvl_code=74;\n",
    "    \"\"\"\n",
    ").pl()\n",
    "df.filter(pl.col(\"avg_wkly_wage\") == pl.col(\"avg_wkly_wage\").max())"
   ]
  },
  {
   "cell_type": "code",
   "execution_count": null,
   "id": "cfaac0ba",
   "metadata": {},
   "outputs": [],
   "source": [
    "pl.read_csv(\"out.csv\")"
   ]
  },
  {
   "cell_type": "code",
   "execution_count": null,
   "id": "7373bf92",
   "metadata": {},
   "outputs": [],
   "source": [
    "dp.conn.sql(\"SELECT * FROM 'QCEWTable';\").write_csv(\"out.csv\")"
   ]
  },
  {
   "cell_type": "code",
   "execution_count": null,
   "id": "f0db0c62",
   "metadata": {},
   "outputs": [],
   "source": [
    "temp = dp.conn.sql(\"SELECT DISTINCT area_fips FROM 'QCEWTable' WHERE year=2018 AND qtr=1;\").df()\n",
    "temp[\"area_fips\"] = temp[\"area_fips\"].str.zfill(5)\n",
    "temp = temp[\"area_fips\"].to_list()"
   ]
  },
  {
   "cell_type": "code",
   "execution_count": null,
   "id": "4fb4f015",
   "metadata": {},
   "outputs": [],
   "source": [
    "gdf = gpd.read_file(\"data/raw/tl_2024_us_county.zip\")\n",
    "gdf[\"county_id\"] = gdf[\"STATEFP\"] + gdf[\"COUNTYFP\"]\n",
    "remove_list_sates = [\"66\", \"69\", \"60\", \"09\", \"15\", \"69\", \"02\"]\n",
    "remove_list_counties = [\"46102\"]\n",
    "gdf = gdf[~gdf[\"STATEFP\"].isin(remove_list_sates)]\n",
    "gdf = gdf[~gdf[\"county_id\"].isin(remove_list_counties)]\n",
    "county_list = list(gdf[\"county_id\"].values)"
   ]
  },
  {
   "cell_type": "code",
   "execution_count": null,
   "id": "b86ad5f3",
   "metadata": {},
   "outputs": [],
   "source": [
    "gdf = gpd.read_file(\"data/raw/tl_2024_us_county.zip\")\n",
    "gdf = gdf.rename(columns={\"GEOID\":\"geo_id\", \"NAME\":\"county_name\",\"geometry\":\"geom\"})\n",
    "gdf[[\"geo_id\",\"county_name\", \"geom\"]]"
   ]
  }
 ],
 "metadata": {
  "kernelspec": {
   "display_name": ".venv",
   "language": "python",
   "name": "python3"
  },
  "language_info": {
   "codemirror_mode": {
    "name": "ipython",
    "version": 3
   },
   "file_extension": ".py",
   "mimetype": "text/x-python",
   "name": "python",
   "nbconvert_exporter": "python",
   "pygments_lexer": "ipython3",
   "version": "3.12.11"
  }
 },
 "nbformat": 4,
 "nbformat_minor": 5
}
