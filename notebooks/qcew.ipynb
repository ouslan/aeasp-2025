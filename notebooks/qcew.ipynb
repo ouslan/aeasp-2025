{
 "cells": [
  {
   "cell_type": "code",
   "execution_count": null,
   "id": "1e29c226",
   "metadata": {},
   "outputs": [],
   "source": [
    "import os \n",
    "os.chdir(\"..\")"
   ]
  },
  {
   "cell_type": "code",
   "execution_count": null,
   "id": "c7b8fa65",
   "metadata": {},
   "outputs": [],
   "source": [
    "import requests\n",
    "from tqdm import tqdm\n",
    "import polars as pl\n",
    "from src.data_pull import DataPull\n",
    "\n",
    "dp = DataPull()\n",
    "county = \"01001\"\n",
    "year = \"2021\"\n",
    "qrt = \"2\"\n",
    "url= f\"http://data.bls.gov/cew/data/api/{year}/{qrt}/area/{area}.csv\"\n",
    "\n"
   ]
  },
  {
   "cell_type": "code",
   "execution_count": null,
   "id": "9abaf385",
   "metadata": {},
   "outputs": [],
   "source": [
    "def pull_file(url: str, filename: str, verify: bool = True) -> None:\n",
    "    \"\"\"\n",
    "    Pulls a file from a URL and saves it in the filename. Used by the class to pull external files.\n",
    "\n",
    "    Parameters\n",
    "    ----------\n",
    "    url: str\n",
    "        The URL to pull the file from.\n",
    "    filename: str\n",
    "        The filename to save the file to.\n",
    "    verify: bool\n",
    "        If True, verifies the SSL certificate. If False, does not verify the SSL certificate.\n",
    "\n",
    "    Returns\n",
    "    -------\n",
    "    None\n",
    "    \"\"\"\n",
    "    chunk_size = 10 * 1024 * 1024\n",
    "\n",
    "    with requests.get(url, stream=True, verify=verify) as response:\n",
    "        total_size = int(response.headers.get(\"content-length\", 0))\n",
    "\n",
    "        with tqdm(\n",
    "            total=total_size,\n",
    "            unit=\"B\",\n",
    "            unit_scale=True,\n",
    "            unit_divisor=1024,\n",
    "            desc=\"Downloading\",\n",
    "        ) as bar:\n",
    "            with open(filename, \"wb\") as file:\n",
    "                for chunk in response.iter_content(chunk_size=chunk_size):\n",
    "                    if chunk:\n",
    "                        file.write(chunk)\n",
    "                        bar.update(\n",
    "                            len(chunk)\n",
    "                        )  # Update the progress bar with the size of the chunks\n",
    "pull_file(url=url, filename=\"test.csv\")"
   ]
  },
  {
   "cell_type": "code",
   "execution_count": null,
   "id": "08a77b9d",
   "metadata": {},
   "outputs": [],
   "source": [
    "df = pl.read_csv(\"test.csv\")\n",
    "# df = df.filter(pl.col(\"agglvl_code\") == 74)\n",
    "df = df.select(pl.col([\"area_fips\", \"year\", \"qtr\", \"own_code\", \"industry_code\", \"month1_emplvl\",\"month2_emplvl\", \"month3_emplvl\", \"total_qtrly_wages\", \"qtrly_estabs\"]))\n",
    "df"
   ]
  },
  {
   "cell_type": "code",
   "execution_count": null,
   "id": "e6382dc5",
   "metadata": {},
   "outputs": [],
   "source": []
  }
 ],
 "metadata": {
  "kernelspec": {
   "display_name": ".venv",
   "language": "python",
   "name": "python3"
  },
  "language_info": {
   "codemirror_mode": {
    "name": "ipython",
    "version": 3
   },
   "file_extension": ".py",
   "mimetype": "text/x-python",
   "name": "python",
   "nbconvert_exporter": "python",
   "pygments_lexer": "ipython3",
   "version": "3.12.10"
  }
 },
 "nbformat": 4,
 "nbformat_minor": 5
}
