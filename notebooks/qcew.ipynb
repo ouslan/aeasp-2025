{
 "cells": [
  {
   "cell_type": "code",
   "execution_count": 8,
   "id": "c7b8fa65",
   "metadata": {},
   "outputs": [],
   "source": [
    "import requests\n",
    "from tqdm import tqdm\n",
    "import polars as pl\n",
    "\n",
    "area = \"01001\"\n",
    "year = \"2021\"\n",
    "qrt = \"2\"\n",
    "url= f\"http://data.bls.gov/cew/data/api/{year}/{qrt}/area/{area}.csv\"\n",
    "\n"
   ]
  },
  {
   "cell_type": "code",
   "execution_count": 6,
   "id": "9abaf385",
   "metadata": {},
   "outputs": [],
   "source": [
    "def pull_file(url: str, filename: str, verify: bool = True) -> None:\n",
    "    \"\"\"\n",
    "    Pulls a file from a URL and saves it in the filename. Used by the class to pull external files.\n",
    "\n",
    "    Parameters\n",
    "    ----------\n",
    "    url: str\n",
    "        The URL to pull the file from.\n",
    "    filename: str\n",
    "        The filename to save the file to.\n",
    "    verify: bool\n",
    "        If True, verifies the SSL certificate. If False, does not verify the SSL certificate.\n",
    "\n",
    "    Returns\n",
    "    -------\n",
    "    None\n",
    "    \"\"\"\n",
    "    chunk_size = 10 * 1024 * 1024\n",
    "\n",
    "    with requests.get(url, stream=True, verify=verify) as response:\n",
    "        total_size = int(response.headers.get(\"content-length\", 0))\n",
    "\n",
    "        with tqdm(\n",
    "            total=total_size,\n",
    "            unit=\"B\",\n",
    "            unit_scale=True,\n",
    "            unit_divisor=1024,\n",
    "            desc=\"Downloading\",\n",
    "        ) as bar:\n",
    "            with open(filename, \"wb\") as file:\n",
    "                for chunk in response.iter_content(chunk_size=chunk_size):\n",
    "                    if chunk:\n",
    "                        file.write(chunk)\n",
    "                        bar.update(\n",
    "                            len(chunk)\n",
    "                        )  # Update the progress bar with the size of the chunks"
   ]
  },
  {
   "cell_type": "code",
   "execution_count": 36,
   "id": "08a77b9d",
   "metadata": {},
   "outputs": [
    {
     "data": {
      "text/html": [
       "<div><style>\n",
       ".dataframe > thead > tr,\n",
       ".dataframe > tbody > tr {\n",
       "  text-align: right;\n",
       "  white-space: pre-wrap;\n",
       "}\n",
       "</style>\n",
       "<small>shape: (35, 10)</small><table border=\"1\" class=\"dataframe\"><thead><tr><th>area_fips</th><th>year</th><th>qtr</th><th>own_code</th><th>industry_code</th><th>month1_emplvl</th><th>month2_emplvl</th><th>month3_emplvl</th><th>total_qtrly_wages</th><th>qtrly_estabs</th></tr><tr><td>i64</td><td>i64</td><td>i64</td><td>i64</td><td>str</td><td>i64</td><td>i64</td><td>i64</td><td>i64</td><td>i64</td></tr></thead><tbody><tr><td>1001</td><td>2021</td><td>2</td><td>1</td><td>&quot;48-49&quot;</td><td>66</td><td>67</td><td>69</td><td>1104361</td><td>4</td></tr><tr><td>1001</td><td>2021</td><td>2</td><td>1</td><td>&quot;92&quot;</td><td>12</td><td>16</td><td>10</td><td>220455</td><td>6</td></tr><tr><td>1001</td><td>2021</td><td>2</td><td>2</td><td>&quot;44-45&quot;</td><td>0</td><td>0</td><td>0</td><td>0</td><td>2</td></tr><tr><td>1001</td><td>2021</td><td>2</td><td>2</td><td>&quot;61&quot;</td><td>0</td><td>0</td><td>0</td><td>0</td><td>1</td></tr><tr><td>1001</td><td>2021</td><td>2</td><td>2</td><td>&quot;62&quot;</td><td>0</td><td>0</td><td>0</td><td>0</td><td>3</td></tr><tr><td>&hellip;</td><td>&hellip;</td><td>&hellip;</td><td>&hellip;</td><td>&hellip;</td><td>&hellip;</td><td>&hellip;</td><td>&hellip;</td><td>&hellip;</td><td>&hellip;</td></tr><tr><td>1001</td><td>2021</td><td>2</td><td>5</td><td>&quot;61&quot;</td><td>249</td><td>247</td><td>238</td><td>2140390</td><td>11</td></tr><tr><td>1001</td><td>2021</td><td>2</td><td>5</td><td>&quot;62&quot;</td><td>956</td><td>957</td><td>960</td><td>9477935</td><td>107</td></tr><tr><td>1001</td><td>2021</td><td>2</td><td>5</td><td>&quot;71&quot;</td><td>304</td><td>335</td><td>351</td><td>1074434</td><td>12</td></tr><tr><td>1001</td><td>2021</td><td>2</td><td>5</td><td>&quot;72&quot;</td><td>1225</td><td>1225</td><td>1236</td><td>5435576</td><td>77</td></tr><tr><td>1001</td><td>2021</td><td>2</td><td>5</td><td>&quot;81&quot;</td><td>283</td><td>288</td><td>283</td><td>2126986</td><td>77</td></tr></tbody></table></div>"
      ],
      "text/plain": [
       "shape: (35, 10)\n",
       "┌───────────┬──────┬─────┬──────────┬───┬──────────────┬──────────────┬──────────────┬─────────────┐\n",
       "│ area_fips ┆ year ┆ qtr ┆ own_code ┆ … ┆ month2_emplv ┆ month3_emplv ┆ total_qtrly_ ┆ qtrly_estab │\n",
       "│ ---       ┆ ---  ┆ --- ┆ ---      ┆   ┆ l            ┆ l            ┆ wages        ┆ s           │\n",
       "│ i64       ┆ i64  ┆ i64 ┆ i64      ┆   ┆ ---          ┆ ---          ┆ ---          ┆ ---         │\n",
       "│           ┆      ┆     ┆          ┆   ┆ i64          ┆ i64          ┆ i64          ┆ i64         │\n",
       "╞═══════════╪══════╪═════╪══════════╪═══╪══════════════╪══════════════╪══════════════╪═════════════╡\n",
       "│ 1001      ┆ 2021 ┆ 2   ┆ 1        ┆ … ┆ 67           ┆ 69           ┆ 1104361      ┆ 4           │\n",
       "│ 1001      ┆ 2021 ┆ 2   ┆ 1        ┆ … ┆ 16           ┆ 10           ┆ 220455       ┆ 6           │\n",
       "│ 1001      ┆ 2021 ┆ 2   ┆ 2        ┆ … ┆ 0            ┆ 0            ┆ 0            ┆ 2           │\n",
       "│ 1001      ┆ 2021 ┆ 2   ┆ 2        ┆ … ┆ 0            ┆ 0            ┆ 0            ┆ 1           │\n",
       "│ 1001      ┆ 2021 ┆ 2   ┆ 2        ┆ … ┆ 0            ┆ 0            ┆ 0            ┆ 3           │\n",
       "│ …         ┆ …    ┆ …   ┆ …        ┆ … ┆ …            ┆ …            ┆ …            ┆ …           │\n",
       "│ 1001      ┆ 2021 ┆ 2   ┆ 5        ┆ … ┆ 247          ┆ 238          ┆ 2140390      ┆ 11          │\n",
       "│ 1001      ┆ 2021 ┆ 2   ┆ 5        ┆ … ┆ 957          ┆ 960          ┆ 9477935      ┆ 107         │\n",
       "│ 1001      ┆ 2021 ┆ 2   ┆ 5        ┆ … ┆ 335          ┆ 351          ┆ 1074434      ┆ 12          │\n",
       "│ 1001      ┆ 2021 ┆ 2   ┆ 5        ┆ … ┆ 1225         ┆ 1236         ┆ 5435576      ┆ 77          │\n",
       "│ 1001      ┆ 2021 ┆ 2   ┆ 5        ┆ … ┆ 288          ┆ 283          ┆ 2126986      ┆ 77          │\n",
       "└───────────┴──────┴─────┴──────────┴───┴──────────────┴──────────────┴──────────────┴─────────────┘"
      ]
     },
     "execution_count": 36,
     "metadata": {},
     "output_type": "execute_result"
    }
   ],
   "source": [
    "df = pl.read_csv(\"test.csv\")\n",
    "df = df.filter(pl.col(\"agglvl_code\") == 74)\n",
    "df = df.select(pl.col([\"area_fips\", \"year\", \"qtr\", \"own_code\", \"industry_code\", \"month1_emplvl\",\"month2_emplvl\", \"month3_emplvl\", \"total_qtrly_wages\", \"qtrly_estabs\"]))\n",
    "df"
   ]
  },
  {
   "cell_type": "code",
   "execution_count": 7,
   "id": "e6382dc5",
   "metadata": {},
   "outputs": [
    {
     "name": "stderr",
     "output_type": "stream",
     "text": [
      "Downloading: 100%|██████████| 131k/131k [00:00<00:00, 770kB/s]\n"
     ]
    }
   ],
   "source": [
    "pull_file(url=url, filename=\"test.csv\")"
   ]
  }
 ],
 "metadata": {
  "kernelspec": {
   "display_name": ".venv",
   "language": "python",
   "name": "python3"
  },
  "language_info": {
   "codemirror_mode": {
    "name": "ipython",
    "version": 3
   },
   "file_extension": ".py",
   "mimetype": "text/x-python",
   "name": "python",
   "nbconvert_exporter": "python",
   "pygments_lexer": "ipython3",
   "version": "3.12.10"
  }
 },
 "nbformat": 4,
 "nbformat_minor": 5
}
