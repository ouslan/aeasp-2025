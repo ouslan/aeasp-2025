{
 "cells": [
  {
   "cell_type": "code",
   "execution_count": null,
   "id": "1e29c226",
   "metadata": {},
   "outputs": [],
   "source": [
    "import os \n",
    "os.chdir(\"..\")"
   ]
  },
  {
   "cell_type": "code",
   "execution_count": null,
   "id": "c7b8fa65",
   "metadata": {},
   "outputs": [],
   "source": [
    "import polars as pl\n",
    "import geopandas as gpd\n",
    "import arviz as az\n",
    "import numpy as np\n",
    "from src.data_process import DataReg\n",
    "from scipy.spatial import distance\n",
    "\n",
    "az.style.use(\"arviz-darkgrid\")\n",
    "\n",
    "\n",
    "dr = DataReg(database_file=\"data.ddb\")"
   ]
  },
  {
   "cell_type": "code",
   "execution_count": null,
   "id": "88b3ef1c",
   "metadata": {},
   "outputs": [],
   "source": [
    "df = dr.data_set()\n",
    "df = df.filter(\n",
    "    (pl.col(\"industry_code\") == \"72\")\n",
    ")\n",
    "df_dp03 = dr.pull_dp03()\n",
    "df_dp03 = df_dp03.with_columns(\n",
    "    area_fips=pl.col(\"geoid\"),\n",
    ")"
   ]
  },
  {
   "cell_type": "code",
   "execution_count": null,
   "id": "e7144d00",
   "metadata": {},
   "outputs": [],
   "source": [
    "df = df.group_by([\"area_fips\",\"year\"]).agg(\n",
    "    employment=((pl.col(\"month1_emplvl\") + pl.col(\"month2_emplvl\") + pl.col(\"month3_emplvl\")) / 3).mean()\n",
    ")"
   ]
  },
  {
   "cell_type": "code",
   "execution_count": null,
   "id": "2fc67dcf",
   "metadata": {},
   "outputs": [],
   "source": [
    "data = df.join(\n",
    "    df_dp03, on=[\"area_fips\",\"year\"],how=\"left\",validate=\"m:1\"\n",
    ").sort(by=[\"area_fips\",\"year\"])"
   ]
  },
  {
   "cell_type": "code",
   "execution_count": null,
   "id": "f701315d",
   "metadata": {},
   "outputs": [],
   "source": [
    "data2 = data.filter(pl.col(\"year\") == 2015)"
   ]
  },
  {
   "cell_type": "code",
   "execution_count": null,
   "id": "1652b40e",
   "metadata": {},
   "outputs": [],
   "source": [
    "data.columns"
   ]
  },
  {
   "cell_type": "code",
   "execution_count": null,
   "id": "899eb92d",
   "metadata": {},
   "outputs": [],
   "source": [
    "selected_cols = [\"commute_car\", \"employment\", \"total_population\"]\n",
    "data_np = data2.select(selected_cols).to_numpy()\n",
    "\n",
    "# Compute the mean and covariance matrix\n",
    "mean_vec = np.mean(data_np, axis=0)\n",
    "cov_matrix = np.cov(data_np, rowvar=False)\n",
    "inv_cov_matrix = np.linalg.inv(cov_matrix)\n",
    "\n",
    "# Compute Mahalanobis distance of each row from the mean\n",
    "mahalanobis_distances = [\n",
    "    distance.mahalanobis(row, mean_vec, inv_cov_matrix) for row in data_np\n",
    "]\n",
    "\n",
    "# Add distances to the DataFrame\n",
    "data2 = data2.with_columns([\n",
    "    pl.Series(name=\"mahalanobis\", values=mahalanobis_distances)\n",
    "])"
   ]
  },
  {
   "cell_type": "code",
   "execution_count": null,
   "id": "bf433483",
   "metadata": {},
   "outputs": [],
   "source": [
    "data2"
   ]
  },
  {
   "cell_type": "code",
   "execution_count": null,
   "id": "db0647a6",
   "metadata": {},
   "outputs": [],
   "source": [
    "# columns = [\n",
    "#     \"total_population\",\n",
    "#     \"own_children6\",\n",
    "#     \"own_children17\",\n",
    "#     \"commute_car\",\n",
    "#     \"total_house\",\n",
    "#     \"with_social_security\",\n",
    "#     \"food_stamp\",\n",
    "# ]\n",
    "# for col in columns:\n",
    "#     data[col] = data.groupby(\"area_fips\")[col].transform(\n",
    "#         lambda group: group.interpolate(method=\"cubic\")\n",
    "#     )"
   ]
  },
  {
   "cell_type": "code",
   "execution_count": null,
   "id": "658cde0e",
   "metadata": {},
   "outputs": [],
   "source": [
    "gdf = dr.pull_county_shapes()\n",
    "gdf"
   ]
  },
  {
   "cell_type": "code",
   "execution_count": null,
   "id": "10f4efbc",
   "metadata": {},
   "outputs": [],
   "source": [
    "data"
   ]
  },
  {
   "cell_type": "code",
   "execution_count": null,
   "id": "3f52d4ec",
   "metadata": {},
   "outputs": [],
   "source": [
    "gdf = gdf.merge(\n",
    "            data.to_pandas(),\n",
    "            on=[\"area_fips\"],\n",
    "            how=\"left\",\n",
    "            validate=\"1:m\",\n",
    "        )\n",
    "\n",
    "# 06081"
   ]
  },
  {
   "cell_type": "code",
   "execution_count": null,
   "id": "689ad81f",
   "metadata": {},
   "outputs": [],
   "source": [
    "gdf.columns"
   ]
  },
  {
   "cell_type": "code",
   "execution_count": null,
   "id": "fa6d6681",
   "metadata": {},
   "outputs": [],
   "source": [
    "gdf = gdf[['county_name', 'area_fips', 'year',\n",
    "       'qtr', 'industry_code', 'agglvl_code', 'avg_wkly_wage', 'qtrly_estabs','state_name', 'min_wage',\n",
    "       'total_population']]\n",
    "# tmp[(tmp[\"industry_code\"] == \"72\") & (tmp[\"year\"] == 2016) & (tmp[\"qtr\"] == 1)].plot(\"avg_wkly_wage\",legend=True)\n"
   ]
  },
  {
   "cell_type": "code",
   "execution_count": null,
   "id": "c5c68c5e",
   "metadata": {},
   "outputs": [],
   "source": [
    "gdf[\"food_stamp_per\"] = gdf[\"food_stamp\"] / gdf[\"total_population\"]"
   ]
  },
  {
   "cell_type": "code",
   "execution_count": null,
   "id": "07538bb5",
   "metadata": {},
   "outputs": [],
   "source": [
    "gdf[(gdf[\"year\"] == 2019) & gdf[\"geo_id\"].str.startswith(\"55\")].plot(\"food_stamp_per\")"
   ]
  },
  {
   "cell_type": "code",
   "execution_count": null,
   "id": "a40932b1",
   "metadata": {},
   "outputs": [],
   "source": [
    "gdf[\"date\"] = gdf[\"year\"]*10 + gdf[\"qtr\"]\n",
    "gdf"
   ]
  },
  {
   "cell_type": "code",
   "execution_count": null,
   "id": "213a62bc",
   "metadata": {},
   "outputs": [],
   "source": [
    "columns_to_aggregate = [\n",
    "    'total_qtrly_wages', 'avg_wkly_wage', 'qtrly_estabs',\n",
    "    'total_population', 'in_labor_force', \n",
    "    'unemployment', 'own_children6', 'own_children17', 'commute_car', \n",
    "    'commute_time', 'total_house', 'inc_less_10k', 'inc_10k_15k', 'inc_15k_25k', \n",
    "    'inc_25k_35k', 'inc_35k_50k', 'inc_50k_75k', 'inc_75k_100k', 'inc_100k_150k', \n",
    "    'inc_150k_200k', 'inc_more_200k', 'with_social_security', 'food_stamp'\n",
    "]\n",
    "\n",
    "aggregated_gdf = gdf.groupby(['geometry', 'area_fips', \"industry_code\"])[columns_to_aggregate].agg(['mean', 'std']).reset_index()\n",
    "\n",
    "aggregated_gdf.columns = ['_'.join(col).strip() for col in aggregated_gdf.columns.values]\n",
    "aggregated_gdf = aggregated_gdf.reset_index(drop=True)\n"
   ]
  },
  {
   "cell_type": "code",
   "execution_count": null,
   "id": "45b4b4b3",
   "metadata": {},
   "outputs": [],
   "source": [
    "aggregated_gdf = gpd.GeoDataFrame(aggregated_gdf, geometry=\"geometry_\")"
   ]
  },
  {
   "cell_type": "code",
   "execution_count": null,
   "id": "b0647986",
   "metadata": {},
   "outputs": [],
   "source": [
    "aggregated_gdf"
   ]
  },
  {
   "cell_type": "code",
   "execution_count": null,
   "id": "9f11b385",
   "metadata": {},
   "outputs": [],
   "source": [
    "aggregated_gdf[(gdf[\"industry_code\"] == \"72\")].plot(\"avg_wkly_wage_mean\",legend=True)"
   ]
  },
  {
   "cell_type": "code",
   "execution_count": null,
   "id": "93f7aeee",
   "metadata": {},
   "outputs": [],
   "source": [
    "temp = gdf.groupby([\"\"])"
   ]
  },
  {
   "cell_type": "code",
   "execution_count": null,
   "id": "75e4e663",
   "metadata": {},
   "outputs": [],
   "source": [
    "gdf[\n",
    "    (gdf[\"year\"] == 2023) & \n",
    "    (gdf[\"qtr\"] == 1) & \n",
    "    (gdf[\"industry_code\"] == \"11\")\n",
    "    ].plot(\"avg_wkly_wage\")"
   ]
  },
  {
   "cell_type": "code",
   "execution_count": null,
   "id": "567517ff",
   "metadata": {},
   "outputs": [],
   "source": [
    "gdf[(gdf[\"year\"] == 2023) & (gdf[\"qtr\"] == 1) & (gdf[\"industry_code\"] == \"11\")].plot(\"with_social_security\")"
   ]
  }
 ],
 "metadata": {
  "kernelspec": {
   "display_name": ".venv",
   "language": "python",
   "name": "python3"
  },
  "language_info": {
   "codemirror_mode": {
    "name": "ipython",
    "version": 3
   },
   "file_extension": ".py",
   "mimetype": "text/x-python",
   "name": "python",
   "nbconvert_exporter": "python",
   "pygments_lexer": "ipython3",
   "version": "3.10.18"
  }
 },
 "nbformat": 4,
 "nbformat_minor": 5
}
