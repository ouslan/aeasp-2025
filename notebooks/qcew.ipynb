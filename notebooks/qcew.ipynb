{
 "cells": [
  {
   "cell_type": "code",
   "execution_count": null,
   "id": "1e29c226",
   "metadata": {},
   "outputs": [],
   "source": [
    "import os \n",
    "os.chdir(\"..\")"
   ]
  },
  {
   "cell_type": "code",
   "execution_count": null,
   "id": "c7b8fa65",
   "metadata": {},
   "outputs": [],
   "source": [
    "import polars as pl\n",
    "import geopandas as gpd\n",
    "import pandas as pd\n",
    "import arviz as az\n",
    "import numpy as np\n",
    "import bambi as bmb\n",
    "from src.data_pull import DataPull\n",
    "import requests\n",
    "\n",
    "import arviz as az\n",
    "\n",
    "import causalpy as cp\n",
    "\n",
    "az.style.use(\"arviz-darkgrid\")\n",
    "\n",
    "\n",
    "dp = DataPull(database_file=\"data.ddb\")"
   ]
  },
  {
   "cell_type": "code",
   "execution_count": null,
   "id": "45abddfa",
   "metadata": {},
   "outputs": [],
   "source": [
    "df_min = dp.pull_min_wage()\n",
    "df_min"
   ]
  },
  {
   "cell_type": "code",
   "execution_count": null,
   "id": "d9af8738",
   "metadata": {},
   "outputs": [],
   "source": [
    "df_min = dp.pull_min_wage()\n",
    "df_min = df_min.with_columns(min_wage=pl.col(\"min_wage\").str.replace(\"$\",\"\",literal=True))\n",
    "df_shpae = pl.from_pandas(dp.pull_states_shapes().drop(\"geometry\", axis=1))\n",
    "df_min = df_min.join(\n",
    "    df_shpae,\n",
    "    on=\"state_name\",\n",
    "    how=\"inner\",\n",
    "    validate=\"m:1\"\n",
    ")\n",
    "df_min = df_min.with_columns(pl.col(\"year\").cast(pl.String))\n",
    "var = \"area_fips,year,qtr,industry_code,agglvl_code,month1_emplvl,month2_emplvl,month3_emplvl,total_qtrly_wages,avg_wkly_wage,qtrly_estabs\"\n",
    "df = dp.conn.sql(\n",
    "    f\"\"\"\n",
    "    SELECT {var} FROM 'QCEWTable' \n",
    "        WHERE agglvl_code=74;\n",
    "    \"\"\"\n",
    ").pl()\n",
    "df = df.with_columns(\n",
    "    area_fips=pl.col(\"area_fips\").str.zfill(5)\n",
    ")\n",
    "df = df.with_columns(\n",
    "    fips=pl.col(\"area_fips\").str.slice(0,2),\n",
    ")\n",
    "df = df.join(\n",
    "    df_min,\n",
    "    on=[\"fips\",\"year\"],\n",
    "    how=\"inner\",\n",
    "    validate=\"m:1\"\n",
    ")\n",
    "df = df.with_columns(\n",
    "    qtr=pl.col(\"qtr\").cast(pl.Int32),\n",
    "    year=pl.col(\"year\").cast(pl.Int32)\n",
    ")"
   ]
  },
  {
   "cell_type": "code",
   "execution_count": null,
   "id": "cf11a831",
   "metadata": {},
   "outputs": [],
   "source": [
    "df_dp03 = dp.pull_dp03()\n",
    "df_dp03 = df_dp03.with_columns(\n",
    "    qtr=4,\n",
    "    area_fips=pl.col(\"geoid\")\n",
    ")\n",
    "df_dp03"
   ]
  },
  {
   "cell_type": "code",
   "execution_count": null,
   "id": "2fc67dcf",
   "metadata": {},
   "outputs": [],
   "source": [
    "data = df.join(\n",
    "    df_dp03, on=[\"area_fips\",\"year\",\"qtr\"],how=\"left\",validate=\"m:1\"\n",
    ").sort(by=[\"area_fips\",\"year\",\"qtr\"]).to_pandas()"
   ]
  },
  {
   "cell_type": "code",
   "execution_count": null,
   "id": "17d81029",
   "metadata": {},
   "outputs": [],
   "source": [
    "data"
   ]
  },
  {
   "cell_type": "code",
   "execution_count": null,
   "id": "db0647a6",
   "metadata": {},
   "outputs": [],
   "source": [
    "columns = [\n",
    "    \"total_population\",\n",
    "    \"own_children6\",\n",
    "    \"own_children17\",\n",
    "    \"commute_car\",\n",
    "    \"total_house\",\n",
    "    \"with_social_security\",\n",
    "    \"food_stamp\",\n",
    "]\n",
    "for col in columns:\n",
    "    data[col] = data.groupby(\"area_fips\")[col].transform(\n",
    "        lambda group: group.interpolate(method=\"cubic\")\n",
    "    )"
   ]
  },
  {
   "cell_type": "code",
   "execution_count": null,
   "id": "0f65f25a",
   "metadata": {},
   "outputs": [],
   "source": [
    "df = pl.DataFrame(data)"
   ]
  },
  {
   "cell_type": "code",
   "execution_count": null,
   "id": "5822bc18",
   "metadata": {},
   "outputs": [],
   "source": [
    "data[data[\"fips\"]]"
   ]
  },
  {
   "cell_type": "code",
   "execution_count": null,
   "id": "66ad6fd8",
   "metadata": {},
   "outputs": [],
   "source": [
    "from shapely import wkt\n",
    "gdf = gpd.GeoDataFrame(dp.pull_county_shapes())\n",
    "gdf[\"geometry\"] = gdf[\"geometry\"].apply(wkt.loads)\n",
    "gdf = gdf.set_geometry(\"geometry\").set_crs(\"EPSG:4269\", allow_override=True)\n",
    "gdf = gdf.to_crs(\"EPSG:3395\")\n",
    "gdf[\"area_fips\"] = gdf[\"geo_id\"].astype(str)\n",
    "gdf[\"fips\"] = gdf[\"fips\"].astype(str)\n",
    "gdf = gdf[(gdf[\"area_fips\"] == \"06081\") | (gdf[\"fips\"] == \"56\")]"
   ]
  },
  {
   "cell_type": "code",
   "execution_count": null,
   "id": "658cde0e",
   "metadata": {},
   "outputs": [],
   "source": [
    "gdf.plot()"
   ]
  },
  {
   "cell_type": "code",
   "execution_count": null,
   "id": "3f52d4ec",
   "metadata": {},
   "outputs": [],
   "source": [
    "gdf = gdf.merge(\n",
    "            data,\n",
    "            on=[\"area_fips\"],\n",
    "            how=\"left\",\n",
    "            validate=\"1:m\",\n",
    "        )\n",
    "\n",
    "# 06081"
   ]
  },
  {
   "cell_type": "code",
   "execution_count": null,
   "id": "689ad81f",
   "metadata": {},
   "outputs": [],
   "source": [
    "gdf.columns"
   ]
  },
  {
   "cell_type": "code",
   "execution_count": null,
   "id": "fa6d6681",
   "metadata": {},
   "outputs": [],
   "source": [
    "gdf = gdf[['county_name', 'area_fips', 'year',\n",
    "       'qtr', 'industry_code', 'agglvl_code', 'avg_wkly_wage', 'qtrly_estabs','state_name', 'min_wage',\n",
    "       'total_population']]\n",
    "# tmp[(tmp[\"industry_code\"] == \"72\") & (tmp[\"year\"] == 2016) & (tmp[\"qtr\"] == 1)].plot(\"avg_wkly_wage\",legend=True)\n"
   ]
  },
  {
   "cell_type": "code",
   "execution_count": null,
   "id": "07538bb5",
   "metadata": {},
   "outputs": [],
   "source": [
    "gdf"
   ]
  },
  {
   "cell_type": "code",
   "execution_count": null,
   "id": "a40932b1",
   "metadata": {},
   "outputs": [],
   "source": [
    "gdf[\"date\"] = gdf[\"year\"]*10 + gdf[\"qtr\"]\n",
    "gdf"
   ]
  },
  {
   "cell_type": "code",
   "execution_count": null,
   "id": "2ec988d2",
   "metadata": {},
   "outputs": [],
   "source": [
    "data_master = pl.DataFrame(gdf[(gdf[\"industry_code\"] == \"72\") & (gdf[\"year\"] == 2019)].reset_index(drop=True))\n",
    "data_master.unpivot(\n",
    "    index=[\"year\", \"qtr\", \"area_fips\"],  # Keep these columns as identifiers\n",
    "    on=[\"avg_wkly_wage\"],  # Columns to unpivot\n",
    "    variable_name=\"value\",  # Name of the new column representing the month\n",
    "    value_name=\"employment\"  # Name of the column for the employment values)\n",
    ")"
   ]
  },
  {
   "cell_type": "code",
   "execution_count": null,
   "id": "213a62bc",
   "metadata": {},
   "outputs": [],
   "source": [
    "columns_to_aggregate = [\n",
    "    'total_qtrly_wages', 'avg_wkly_wage', 'qtrly_estabs',\n",
    "    'total_population', 'in_labor_force', \n",
    "    'unemployment', 'own_children6', 'own_children17', 'commute_car', \n",
    "    'commute_time', 'total_house', 'inc_less_10k', 'inc_10k_15k', 'inc_15k_25k', \n",
    "    'inc_25k_35k', 'inc_35k_50k', 'inc_50k_75k', 'inc_75k_100k', 'inc_100k_150k', \n",
    "    'inc_150k_200k', 'inc_more_200k', 'with_social_security', 'food_stamp'\n",
    "]\n",
    "\n",
    "aggregated_gdf = gdf.groupby(['geometry', 'area_fips', \"industry_code\"])[columns_to_aggregate].agg(['mean', 'std']).reset_index()\n",
    "\n",
    "aggregated_gdf.columns = ['_'.join(col).strip() for col in aggregated_gdf.columns.values]\n",
    "aggregated_gdf = aggregated_gdf.reset_index(drop=True)\n"
   ]
  },
  {
   "cell_type": "code",
   "execution_count": null,
   "id": "45b4b4b3",
   "metadata": {},
   "outputs": [],
   "source": [
    "aggregated_gdf = gpd.GeoDataFrame(aggregated_gdf, geometry=\"geometry_\")"
   ]
  },
  {
   "cell_type": "code",
   "execution_count": null,
   "id": "b0647986",
   "metadata": {},
   "outputs": [],
   "source": [
    "aggregated_gdf"
   ]
  },
  {
   "cell_type": "code",
   "execution_count": null,
   "id": "9f11b385",
   "metadata": {},
   "outputs": [],
   "source": [
    "aggregated_gdf[(gdf[\"industry_code\"] == \"72\")].plot(\"avg_wkly_wage_mean\",legend=True)"
   ]
  },
  {
   "cell_type": "code",
   "execution_count": null,
   "id": "93f7aeee",
   "metadata": {},
   "outputs": [],
   "source": [
    "temp = gdf.groupby([\"\"])"
   ]
  },
  {
   "cell_type": "code",
   "execution_count": null,
   "id": "75e4e663",
   "metadata": {},
   "outputs": [],
   "source": [
    "gdf[\n",
    "    (gdf[\"year\"] == 2023) & \n",
    "    (gdf[\"qtr\"] == 1) & \n",
    "    (gdf[\"industry_code\"] == \"11\")\n",
    "    ].plot(\"avg_wkly_wage\")"
   ]
  },
  {
   "cell_type": "code",
   "execution_count": null,
   "id": "567517ff",
   "metadata": {},
   "outputs": [],
   "source": [
    "gdf[(gdf[\"year\"] == 2023) & (gdf[\"qtr\"] == 1) & (gdf[\"industry_code\"] == \"11\")].plot(\"with_social_security\")"
   ]
  }
 ],
 "metadata": {
  "kernelspec": {
   "display_name": ".venv",
   "language": "python",
   "name": "python3"
  },
  "language_info": {
   "codemirror_mode": {
    "name": "ipython",
    "version": 3
   },
   "file_extension": ".py",
   "mimetype": "text/x-python",
   "name": "python",
   "nbconvert_exporter": "python",
   "pygments_lexer": "ipython3",
   "version": "3.10.18"
  }
 },
 "nbformat": 4,
 "nbformat_minor": 5
}
