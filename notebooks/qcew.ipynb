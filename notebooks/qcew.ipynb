{
 "cells": [
  {
   "cell_type": "code",
   "execution_count": null,
   "id": "1e29c226",
   "metadata": {},
   "outputs": [],
   "source": [
    "import os \n",
    "os.chdir(\"..\")"
   ]
  },
  {
   "cell_type": "code",
   "execution_count": null,
   "id": "c7b8fa65",
   "metadata": {},
   "outputs": [],
   "source": [
    "import polars as pl\n",
    "import geopandas as gpd\n",
    "import pandas as pd\n",
    "from src.data_pull import DataPull\n",
    "import requests\n",
    "\n",
    "dp = DataPull(database_file=\"data2.ddb\")"
   ]
  },
  {
   "cell_type": "code",
   "execution_count": null,
   "id": "c2fdc785",
   "metadata": {},
   "outputs": [],
   "source": [
    "df = dp.pull_min_wage()\n",
    "df.select(pl.col(\"year\")).max()"
   ]
  },
  {
   "cell_type": "code",
   "execution_count": null,
   "id": "0acd8d37",
   "metadata": {},
   "outputs": [],
   "source": [
    "var = \"area_fips,year,qtr,industry_code,agglvl_code,month1_emplvl,month2_emplvl,month3_emplvl,total_qtrly_wages,avg_wkly_wage,qtrly_estabs\"\n",
    "df = dp.conn.sql(\n",
    "    f\"\"\"\n",
    "    SELECT {var} FROM 'QCEWTable' \n",
    "        WHERE agglvl_code=74;\n",
    "    \"\"\"\n",
    ").pl()\n",
    "df.filter(pl.col(\"avg_wkly_wage\") == pl.col(\"avg_wkly_wage\").max())"
   ]
  },
  {
   "cell_type": "code",
   "execution_count": null,
   "id": "cfaac0ba",
   "metadata": {},
   "outputs": [],
   "source": [
    "pl.read_csv(\"out.csv\")"
   ]
  },
  {
   "cell_type": "code",
   "execution_count": null,
   "id": "7373bf92",
   "metadata": {},
   "outputs": [],
   "source": [
    "dp.conn.sql(\"SELECT * FROM 'QCEWTable';\").write_csv(\"out.csv\")"
   ]
  },
  {
   "cell_type": "code",
   "execution_count": null,
   "id": "f0db0c62",
   "metadata": {},
   "outputs": [],
   "source": [
    "temp = dp.conn.sql(\"SELECT DISTINCT area_fips FROM 'QCEWTable' WHERE year=2018 AND qtr=1;\").df()\n",
    "temp[\"area_fips\"] = temp[\"area_fips\"].str.zfill(5)\n",
    "temp = temp[\"area_fips\"].to_list()"
   ]
  },
  {
   "cell_type": "code",
   "execution_count": null,
   "id": "4fb4f015",
   "metadata": {},
   "outputs": [],
   "source": [
    "gdf = gpd.read_file(\"data/raw/tl_2024_us_county.zip\")\n",
    "gdf[\"county_id\"] = gdf[\"STATEFP\"] + gdf[\"COUNTYFP\"]\n",
    "remove_list_sates = [\"66\", \"69\", \"60\", \"09\", \"15\", \"69\", \"02\"]\n",
    "remove_list_counties = [\"46102\"]\n",
    "gdf = gdf[~gdf[\"STATEFP\"].isin(remove_list_sates)]\n",
    "gdf = gdf[~gdf[\"county_id\"].isin(remove_list_counties)]\n",
    "county_list = list(gdf[\"county_id\"].values)"
   ]
  },
  {
   "cell_type": "code",
   "execution_count": null,
   "id": "9b3fc526",
   "metadata": {},
   "outputs": [],
   "source": [
    "gdf[gdf[\"county_id\"] == \"47073\"]"
   ]
  },
  {
   "cell_type": "code",
   "execution_count": null,
   "id": "51bdb2ee",
   "metadata": {},
   "outputs": [],
   "source": [
    "missing = list(set(county_list) - set(temp))\n",
    "len(missing)"
   ]
  },
  {
   "cell_type": "code",
   "execution_count": null,
   "id": "d6d7d9d4",
   "metadata": {},
   "outputs": [],
   "source": [
    "print(len(county_list))\n",
    "missing"
   ]
  },
  {
   "cell_type": "code",
   "execution_count": null,
   "id": "8b7d70e1",
   "metadata": {},
   "outputs": [],
   "source": [
    "dp.conn.sql(\"SELECT * FROM 'QCEWTable' WHERE year=2018 AND qtr=1 AND area_fips=04007 LIMIT(1);\").df()"
   ]
  },
  {
   "cell_type": "code",
   "execution_count": null,
   "id": "29be02e9",
   "metadata": {},
   "outputs": [],
   "source": [
    "int(dp.conn.sql(\"SELECT MAX(qtr) FROM 'QCEWTable' WHERE year=2019 LIMIT(1);\").df().values[0][0]) "
   ]
  },
  {
   "cell_type": "code",
   "execution_count": null,
   "id": "a5f481b0",
   "metadata": {},
   "outputs": [],
   "source": [
    "pl.read_csv(\"data/raw/bls_2014_1_51685.csv\", ignore_errors=True)"
   ]
  },
  {
   "cell_type": "code",
   "execution_count": null,
   "id": "79a78fd0",
   "metadata": {},
   "outputs": [],
   "source": [
    "for file in os.listdir(\"data/raw/\"):\n",
    "    if not file.endswith(\".csv\"):\n",
    "        continue\n",
    "    print(file)\n",
    "    pl.read_csv(f\"data/raw/{file}\")"
   ]
  },
  {
   "cell_type": "code",
   "execution_count": null,
   "id": "dd4fef86",
   "metadata": {},
   "outputs": [],
   "source": [
    "gdf = gpd.read_file(\"data/raw/tl_2024_us_county.zip\")\n",
    "gdf[\"county_id\"] = gdf[\"STATEFP\"] + gdf[\"COUNTYFP\"]\n",
    "# remove_list = [\"66010\"]\n",
    "# gdf = gdf[~gdf[\"county_id\"].isin(remove_list)]"
   ]
  },
  {
   "cell_type": "code",
   "execution_count": null,
   "id": "65a7f124",
   "metadata": {},
   "outputs": [],
   "source": [
    "\n",
    "gdf[gdf[\"county_id\"] == \"04007\"]"
   ]
  },
  {
   "cell_type": "code",
   "execution_count": null,
   "id": "487d75a1",
   "metadata": {},
   "outputs": [],
   "source": [
    "gdf[gdf[\"STATEFP\"] == \"02\"].plot()"
   ]
  },
  {
   "cell_type": "code",
   "execution_count": null,
   "id": "212a9128",
   "metadata": {},
   "outputs": [],
   "source": [
    "\n",
    "\n",
    "dp.pull_qcew()"
   ]
  },
  {
   "cell_type": "code",
   "execution_count": null,
   "id": "12552898",
   "metadata": {},
   "outputs": [],
   "source": [
    "# os.remove(\"data/raw/bls_2014_1_66010.csv\")\n",
    "dp.pull_qcew_file(year=2014,qtr=1,county=\"66010\")"
   ]
  },
  {
   "cell_type": "code",
   "execution_count": null,
   "id": "aec4ac60",
   "metadata": {},
   "outputs": [],
   "source": [
    "df = pl.read_csv(\"data/external/county.csv\")\n",
    "df = df.filter(~pl.col(\"area_title\").str.contains(\"Statewide\"))\n",
    "df = df.filter(~(pl.col(\"area_fips\").str.contains(\"US\")) & ~(pl.col(\"area_fips\").str.contains(\"C\")))\n",
    "df.filter(pl.col(\"area_fips\")  == \"04007\")"
   ]
  },
  {
   "cell_type": "code",
   "execution_count": null,
   "id": "08a77b9d",
   "metadata": {},
   "outputs": [],
   "source": [
    "df = pl.read_csv(\"test.csv\")\n",
    "# df = df.filter(pl.col(\"agglvl_code\") == 74)\n",
    "df = df.select(pl.col([\"area_fips\", \"year\", \"qtr\", \"own_code\", \"industry_code\", \"month1_emplvl\",\"month2_emplvl\", \"month3_emplvl\", \"total_qtrly_wages\", \"qtrly_estabs\"]))\n",
    "df"
   ]
  },
  {
   "cell_type": "code",
   "execution_count": null,
   "id": "c558cf56",
   "metadata": {},
   "outputs": [],
   "source": [
    "# Parte de web scraping\n",
    "url = 'https://www.dol.gov/agencies/whd/state/minimum-wage/history'\n",
    "html = requests.get(url).content\n",
    "# Recoleccion de datos de cpi paa 2020-2023\n",
    "df_list = pd.read_html(html, match='2023')\n",
    "df_2022 = df_list[-1]\n",
    "# df_2022.drop(columns=df_2022.columns[0], axis=1, inplace=True)\n",
    "\n",
    "# # Repiticion de web scraping para los demas años\n",
    "# # Recoleccion de datos de cpi paa 2010-2019\n",
    "df_list = pd.read_html(html, match='2014')\n",
    "df_2019 = df_list[-1]\n",
    "# df_2019.drop(columns=df_2019.columns[0], axis=1, inplace=True)\n",
    "df = pd.merge(df_2022, df_2019, how='left', on='State or other jurisdiction')\n",
    "df = pl.from_pandas(df)\n",
    "df = df.rename({\"State or other jurisdiction\":\"state_name\"})\n",
    "df.unpivot(index=\"state_name\",variable_name=\"year\", value_name=\"min_wage\")"
   ]
  }
 ],
 "metadata": {
  "kernelspec": {
   "display_name": ".venv",
   "language": "python",
   "name": "python3"
  },
  "language_info": {
   "codemirror_mode": {
    "name": "ipython",
    "version": 3
   },
   "file_extension": ".py",
   "mimetype": "text/x-python",
   "name": "python",
   "nbconvert_exporter": "python",
   "pygments_lexer": "ipython3",
   "version": "3.12.11"
  }
 },
 "nbformat": 4,
 "nbformat_minor": 5
}
