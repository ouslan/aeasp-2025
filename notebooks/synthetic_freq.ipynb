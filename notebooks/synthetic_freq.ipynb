{
 "cells": [
  {
   "cell_type": "code",
   "execution_count": null,
   "id": "33985ebd",
   "metadata": {},
   "outputs": [],
   "source": [
    "import os \n",
    "os.chdir(\"..\")"
   ]
  },
  {
   "cell_type": "code",
   "execution_count": null,
   "id": "46d5d85d",
   "metadata": {},
   "outputs": [],
   "source": [
    "import seaborn as sns\n",
    "import pandas as pd\n",
    "import matplotlib.pyplot as plt\n",
    "import numpy as np\n",
    "from src.data_process import DataReg\n",
    "\n",
    "plt.style.use(\"bmh\")\n",
    "plt.rcParams[\"figure.figsize\"] = [10, 6]\n",
    "plt.rcParams[\"figure.dpi\"] = 100\n",
    "plt.rcParams[\"figure.facecolor\"] = \"white\"\n",
    "\n",
    "dr = DataReg(database_file=\"data.ddb\")"
   ]
  },
  {
   "cell_type": "code",
   "execution_count": null,
   "id": "e88cf439",
   "metadata": {},
   "outputs": [],
   "source": [
    "target = \"i24031\"\n",
    "date = \"2017-01-01\"\n",
    "naics = \"72\""
   ]
  },
  {
   "cell_type": "code",
   "execution_count": null,
   "id": "bff137dc",
   "metadata": {},
   "outputs": [],
   "source": [
    "gdf = dr.pull_county_shapes()\n",
    "gdf[\"area_fips\"] = \"i\" + gdf[\"area_fips\"]"
   ]
  },
  {
   "cell_type": "code",
   "execution_count": null,
   "id": "50cc6451",
   "metadata": {},
   "outputs": [],
   "source": [
    "controls2 = gdf[gdf[\"fips\"] == \"17\"][\"area_fips\"].to_list()"
   ]
  },
  {
   "cell_type": "code",
   "execution_count": null,
   "id": "b2dfdc20",
   "metadata": {},
   "outputs": [],
   "source": [
    "controls = dr.controls_list(target=target, amount=200, naics=naics)\n",
    "data = dr.synth_data(controls=controls, target=target, date=date, naics=naics)\n",
    "dr.synth_freq(controls=controls, target=target, date=date, naics=naics)"
   ]
  },
  {
   "cell_type": "code",
   "execution_count": null,
   "id": "3e6987c4",
   "metadata": {},
   "outputs": [],
   "source": [
    "target = \"i24031\"\n",
    "date = \"2017-01-01\"\n",
    "naics = \"11\"\n",
    "controls = dr.controls_list(target=target, amount=200, naics=naics)\n",
    "data = dr.synth_data(controls=controls, target=target, date=date, naics=naics)\n",
    "dr.synth_freq(controls=controls, target=target, date=date, naics=naics)"
   ]
  },
  {
   "cell_type": "code",
   "execution_count": null,
   "id": "7b0025d5",
   "metadata": {},
   "outputs": [],
   "source": [
    "target = \"i24031\"\n",
    "date = \"2017-01-01\"\n",
    "naics = \"11\"\n",
    "controls = dr.controls_list(target=target, amount=200, naics=naics)\n",
    "data = dr.synth_data(controls=controls, target=target, date=date, naics=naics)\n",
    "dr.synth_freq(controls=controls, target=target, date=date, naics=naics)"
   ]
  },
  {
   "cell_type": "code",
   "execution_count": null,
   "id": "de90aee0",
   "metadata": {},
   "outputs": [],
   "source": [
    "dr.synth_bayes(controls=controls, target=target, date=date, naics=naics)\n"
   ]
  },
  {
   "cell_type": "code",
   "execution_count": null,
   "id": "9ffd14b8",
   "metadata": {},
   "outputs": [],
   "source": [
    "features = [\"total_employment\"]\n",
    "pre_df = (\n",
    "    data\n",
    "    .query(\"~after_treatment\")\n",
    "    .pivot(index='area_fips', columns=\"date\", values=features)\n",
    "    .T\n",
    ").dropna(axis=1)\n",
    "\n",
    "post_df = (\n",
    "    data\n",
    "    .query(\"after_treatment\")\n",
    "    .pivot(index='area_fips', columns=\"date\", values=features)\n",
    "    .T\n",
    ")\n",
    "pre_df = pre_df.dropna(axis=1)\n",
    "post_df = post_df.dropna(axis=1)\n",
    "\n",
    "controls = list(set(pre_df.columns) & set(post_df.columns))\n",
    "\n",
    "pre_df = pre_df[controls]\n",
    "post_df = post_df[controls]\n"
   ]
  },
  {
   "cell_type": "code",
   "execution_count": null,
   "id": "b9647fcf",
   "metadata": {},
   "outputs": [],
   "source": [
    "data = data[data[\"area_fips\"].isin(controls)].reset_index(drop=True)\n",
    "data"
   ]
  },
  {
   "cell_type": "code",
   "execution_count": null,
   "id": "90bb8234",
   "metadata": {},
   "outputs": [],
   "source": [
    "fig, ax = plt.subplots()\n",
    "\n",
    "(\n",
    "    data.groupby([\"date\", \"controls\"], as_index=False)\n",
    "    .agg({\"total_employment\": \"mean\"})\n",
    "    .pipe(\n",
    "        (sns.lineplot, \"data\"),\n",
    "        x=\"date\",\n",
    "        y=\"total_employment\",\n",
    "        hue=\"controls\",\n",
    "        marker=\"o\",\n",
    "        ax=ax,\n",
    "    )\n",
    ")\n",
    "ax.axvline(\n",
    "    x=pd.to_datetime(date),\n",
    "    linestyle=\":\",\n",
    "    lw=2,\n",
    "    color=\"C2\",\n",
    "    label=\"Iplementation of minimum wage\",\n",
    ")\n",
    "\n",
    "ax.legend(loc=\"upper right\")\n",
    "ax.set(\n",
    "    title=\"Employment\",\n",
    "    ylabel=\"total employment trend Trend\"\n",
    ")\n"
   ]
  },
  {
   "cell_type": "code",
   "execution_count": null,
   "id": "b54c7fd0",
   "metadata": {},
   "outputs": [],
   "source": [
    "features = [\"total_employment\"]\n",
    "\n",
    "inverted = (data.query(\"~after_treatment\") # filter pre-intervention period\n",
    "            .pivot(index='area_fips', columns=\"date\")[features] # make one column per year and one row per state\n",
    "            .T) # flip the table to have one column per state\n",
    "\n",
    "inverted.head()"
   ]
  },
  {
   "cell_type": "code",
   "execution_count": null,
   "id": "2629a826",
   "metadata": {},
   "outputs": [],
   "source": [
    "y = inverted[target].values \n",
    "X = inverted.drop(columns=target).values "
   ]
  },
  {
   "cell_type": "code",
   "execution_count": null,
   "id": "79c91394",
   "metadata": {},
   "outputs": [],
   "source": [
    "from typing import List\n",
    "from operator import add\n",
    "from toolz import reduce, partial\n",
    "\n",
    "def loss_w(W, X, y) -> float:\n",
    "    return np.sqrt(np.mean((y - X.dot(W))**2))"
   ]
  },
  {
   "cell_type": "code",
   "execution_count": null,
   "id": "e48c92e9",
   "metadata": {},
   "outputs": [],
   "source": [
    "from scipy.optimize import fmin_slsqp\n",
    "\n",
    "def get_w(X, y):\n",
    "    \n",
    "    w_start = [1/X.shape[1]]*X.shape[1]\n",
    "\n",
    "    weights = fmin_slsqp(partial(loss_w, X=X, y=y),\n",
    "                         np.array(w_start),\n",
    "                         f_eqcons=lambda x: np.sum(x) - 1,\n",
    "                         bounds=[(0.0, 1.0)]*len(w_start),\n",
    "                         disp=False)\n",
    "    return weights"
   ]
  },
  {
   "cell_type": "code",
   "execution_count": null,
   "id": "c4a367eb",
   "metadata": {},
   "outputs": [],
   "source": [
    "calif_weights = get_w(X, y)\n",
    "print(\"Sum:\", calif_weights.sum())\n",
    "calif_weights"
   ]
  },
  {
   "cell_type": "code",
   "execution_count": null,
   "id": "00af1fb4",
   "metadata": {},
   "outputs": [],
   "source": [
    "calif_synth = data.query(\"~controls\").pivot(index='date', columns=\"area_fips\")[\"total_employment\"].values.dot(calif_weights)\n",
    "calif_synth"
   ]
  },
  {
   "cell_type": "code",
   "execution_count": null,
   "id": "04b49ed4",
   "metadata": {},
   "outputs": [],
   "source": [
    "plt.figure(figsize=(10,6))\n",
    "plt.plot(data.query(\"controls\")[\"date\"], data.query(\"controls\")[\"total_employment\"], label=\"California\")\n",
    "plt.plot(data.query(\"controls\")[\"date\"], calif_synth, label=\"Synthetic Control\")\n",
    "plt.ylabel(\"Per-capita cigarette sales (in packs)\")\n",
    "plt.legend()"
   ]
  },
  {
   "cell_type": "code",
   "execution_count": null,
   "id": "415e41f6",
   "metadata": {},
   "outputs": [],
   "source": [
    "plt.figure(figsize=(10,6))\n",
    "plt.plot(data.query(\"controls\")[\"date\"], data.query(\"controls\")[\"total_employment\"] - calif_synth,\n",
    "         label=\"California Effect\")\n",
    "# plt.vlines(x=pd.to_datetime(\"2016-01-01\"), ymin=-30, ymax=7, linestyle=\":\", lw=2, label=\"Proposition 99\")\n",
    "plt.hlines(y=0, xmin=pd.to_datetime(\"2014-01-01\"), xmax=pd.to_datetime(\"2020-01-01\"), lw=2)\n",
    "plt.title(\"State - Synthetic Across Time\")\n",
    "plt.ylabel(\"\")\n",
    "plt.legend()"
   ]
  },
  {
   "cell_type": "code",
   "execution_count": null,
   "id": "bc0428db",
   "metadata": {},
   "outputs": [],
   "source": [
    "def synthetic_control(area_fips: int, data: pd.DataFrame) -> np.array:\n",
    "    \n",
    "    features = [\"total_employment\"]\n",
    "    \n",
    "    inverted = (data.query(\"~after_treatment\")\n",
    "                .pivot(index='area_fips', columns=\"date\")[features]\n",
    "                .T)\n",
    "    \n",
    "    y = inverted[area_fips].values # treated\n",
    "    X = inverted.drop(columns=area_fips).values # donor pool\n",
    "\n",
    "    weights = get_w(X, y)\n",
    "    synthetic = (data.query(f'~(area_fips==\"{area_fips}\")')\n",
    "                 .pivot(index='date', columns=\"area_fips\")[\"total_employment\"]\n",
    "                 .values.dot(weights))\n",
    "\n",
    "    return (data\n",
    "            .query(f'area_fips==\"{area_fips}\"')[[\"area_fips\", \"date\", \"total_employment\", \"after_treatment\"]]\n",
    "            .assign(synthetic=synthetic)).reset_index(drop=True)"
   ]
  },
  {
   "cell_type": "code",
   "execution_count": null,
   "id": "195262f9",
   "metadata": {},
   "outputs": [],
   "source": [
    "synthetic_control(target, data).head()"
   ]
  },
  {
   "cell_type": "code",
   "execution_count": null,
   "id": "e1fda673",
   "metadata": {},
   "outputs": [],
   "source": [
    "from joblib import Parallel, delayed\n",
    "\n",
    "control_pool = data[\"area_fips\"].unique()\n",
    "\n",
    "parallel_fn = delayed(partial(synthetic_control, data=data))\n",
    "\n",
    "synthetic_states = Parallel(n_jobs=8)(parallel_fn(area_fips) for area_fips in control_pool)"
   ]
  },
  {
   "cell_type": "code",
   "execution_count": null,
   "id": "585db96f",
   "metadata": {},
   "outputs": [],
   "source": [
    "synthetic_states[0].head()"
   ]
  },
  {
   "cell_type": "code",
   "execution_count": null,
   "id": "1c57b53f",
   "metadata": {},
   "outputs": [],
   "source": [
    "plt.figure(figsize=(12,7))\n",
    "for area_fips in synthetic_states:\n",
    "    plt.plot(area_fips[\"date\"], area_fips[\"total_employment\"] - area_fips[\"synthetic\"], color=\"C5\",alpha=0.4)\n",
    "\n",
    "plt.plot(data.query(\"controls\")[\"date\"], data.query(\"controls\")[\"total_employment\"] - calif_synth,\n",
    "        label=\"California\")\n",
    "\n",
    "plt.vlines(x=pd.to_datetime(\"2016-01-01\"), ymin=-0.25, ymax=0.25, linestyle=\":\", lw=2, label=\"Proposition 99\")\n",
    "plt.hlines(y=0, xmin=pd.to_datetime(\"2014-01-01\"), xmax=pd.to_datetime(\"2020-01-01\"), lw=3)\n",
    "plt.ylabel(\"Gap in per-capita cigarette sales (in packs)\")\n",
    "plt.title(\"State - Synthetic Across Time\")\n",
    "plt.legend()"
   ]
  },
  {
   "cell_type": "code",
   "execution_count": null,
   "id": "acf6b0e5",
   "metadata": {},
   "outputs": [],
   "source": [
    "def pre_treatment_error(area_fips):\n",
    "    pre_treat_error = (area_fips.query(\"~after_treatment\")[\"total_employment\"] \n",
    "                       - area_fips.query(\"~after_treatment\")[\"synthetic\"]) ** 2\n",
    "    return pre_treat_error.mean()"
   ]
  },
  {
   "cell_type": "code",
   "execution_count": null,
   "id": "797287b2",
   "metadata": {},
   "outputs": [],
   "source": [
    "plt.figure(figsize=(12,7))\n",
    "for area_fips in synthetic_states:\n",
    "    \n",
    "    if pre_treatment_error(area_fips) < 80:\n",
    "        plt.plot(area_fips[\"date\"], area_fips[\"total_employment\"] - area_fips[\"synthetic\"], color=\"C5\",alpha=0.4)\n",
    "\n",
    "plt.plot(data.query(\"controls\")[\"date\"], data.query(\"controls\")[\"total_employment\"] - calif_synth,\n",
    "        label=\"California\")\n",
    "\n",
    "plt.vlines(x=pd.to_datetime(\"2016-01-01\"), ymin=-0.25, ymax=0.25, linestyle=\":\", lw=2, label=\"Proposition 99\")\n",
    "plt.hlines(y=0, xmin=pd.to_datetime(\"2014-01-01\"), xmax=pd.to_datetime(\"2020-01-01\"), lw=3)\n",
    "plt.ylabel(\"Gap in per-capita cigarette sales (in packs)\")\n",
    "plt.title(\"Distribution of Effects\")\n",
    "plt.title(\"State - Synthetic Across Time (Large Pre-Treatment Errors Removed)\")\n",
    "plt.legend()"
   ]
  }
 ],
 "metadata": {
  "kernelspec": {
   "display_name": ".venv",
   "language": "python",
   "name": "python3"
  },
  "language_info": {
   "codemirror_mode": {
    "name": "ipython",
    "version": 3
   },
   "file_extension": ".py",
   "mimetype": "text/x-python",
   "name": "python",
   "nbconvert_exporter": "python",
   "pygments_lexer": "ipython3",
   "version": "3.10.18"
  }
 },
 "nbformat": 4,
 "nbformat_minor": 5
}
