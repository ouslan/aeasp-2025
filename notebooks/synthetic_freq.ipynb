{
 "cells": [
  {
   "cell_type": "code",
   "execution_count": null,
   "id": "33985ebd",
   "metadata": {},
   "outputs": [],
   "source": [
    "import os \n",
    "os.chdir(\"..\")"
   ]
  },
  {
   "cell_type": "code",
   "execution_count": null,
   "id": "46d5d85d",
   "metadata": {},
   "outputs": [],
   "source": [
    "import polars as pl\n",
    "import seaborn as sns\n",
    "import pandas as pd\n",
    "import matplotlib.pyplot as plt\n",
    "import numpy as np\n",
    "from src.data_process import DataReg\n",
    "from scipy.spatial import distance\n",
    "\n",
    "plt.style.use(\"bmh\")\n",
    "plt.rcParams[\"figure.figsize\"] = [10, 6]\n",
    "plt.rcParams[\"figure.dpi\"] = 100\n",
    "plt.rcParams[\"figure.facecolor\"] = \"white\"\n",
    "\n",
    "dr = DataReg(database_file=\"data.ddb\")"
   ]
  },
  {
   "cell_type": "code",
   "execution_count": null,
   "id": "21b6348a",
   "metadata": {},
   "outputs": [],
   "source": [
    "df = dr.data_set()\n",
    "df = df.filter(\n",
    "    (pl.col(\"industry_code\") == \"72\")\n",
    ")\n",
    "df_dp03 = dr.pull_dp03()\n",
    "df_dp03 = df_dp03.with_columns(\n",
    "    area_fips=pl.col(\"geoid\"),\n",
    ")\n",
    "df = df.group_by([\"area_fips\",\"year\"]).agg(\n",
    "    employment=((pl.col(\"month1_emplvl\") + pl.col(\"month2_emplvl\") + pl.col(\"month3_emplvl\")) / 3).mean()\n",
    ")\n",
    "data = df.join(\n",
    "    df_dp03, on=[\"area_fips\",\"year\"],how=\"left\",validate=\"m:1\"\n",
    ").sort(by=[\"area_fips\",\"year\"])\n",
    "selected_cols = [\"commute_car\", \"employment\", \"total_population\"]\n",
    "\n",
    "data2 = data.filter(pl.col(\"year\") == 2015)\n",
    "\n",
    "data_np = data2.select(selected_cols).to_numpy()\n",
    "\n",
    "# Compute the mean and covariance matrix\n",
    "mean_vec = np.mean(data_np, axis=0)\n",
    "cov_matrix = np.cov(data_np, rowvar=False)\n",
    "inv_cov_matrix = np.linalg.inv(cov_matrix)\n",
    "\n",
    "# Compute Mahalanobis distance of each row from the mean\n",
    "mahalanobis_distances = [\n",
    "    distance.mahalanobis(row, mean_vec, inv_cov_matrix) for row in data_np\n",
    "]\n",
    "\n",
    "# Add distances to the DataFrame\n",
    "data2 = data2.with_columns(\n",
    "    mahalanobis=mahalanobis_distances,\n",
    "    area_fips=\"i\"+pl.col(\"area_fips\")\n",
    "    )"
   ]
  },
  {
   "cell_type": "code",
   "execution_count": null,
   "id": "406d506c",
   "metadata": {},
   "outputs": [],
   "source": [
    "mean_vec = np.mean(data_np, axis=0)\n",
    "mean_vec"
   ]
  },
  {
   "cell_type": "code",
   "execution_count": null,
   "id": "1bf42a55",
   "metadata": {},
   "outputs": [],
   "source": [
    "controls = data2.sort(\"mahalanobis\").head(200).select(\"area_fips\").to_series().to_list()"
   ]
  },
  {
   "cell_type": "code",
   "execution_count": null,
   "id": "021b7cb3",
   "metadata": {},
   "outputs": [],
   "source": [
    "df = dr.data_set()\n",
    "df = df.filter(\n",
    "    (pl.col(\"industry_code\") == \"72\") &\n",
    "    # (~pl.col(\"area_fips\").is_in(remove)) & \n",
    "    (pl.col(\"year\") < 2020)\n",
    "\n",
    ")\n",
    "\n",
    "\n",
    "df = df.with_columns(\n",
    "    date=pl.col(\"year\").cast(pl.String) + \"Q\" + pl.col(\"qtr\").cast(pl.String),\n",
    "    dummy=pl.lit(1),\n",
    "    area_fips= \"i\" + pl.col(\"area_fips\"),\n",
    "    total_employment=((pl.col(\"month1_emplvl\") + pl.col(\"month2_emplvl\") + pl.col(\"month3_emplvl\")) /\n",
    "    3).log(),\n",
    "    # after_treatment=pl.when((pl.col(\"year\") >= 2016) & (pl.col(\"qtr\") > 1)).then(True).otherwise(False)\n",
    ")\n",
    "# df.filter(pl.col(\"area_fips\") == \"i06081\")"
   ]
  },
  {
   "cell_type": "code",
   "execution_count": null,
   "id": "c6cfd410",
   "metadata": {},
   "outputs": [],
   "source": [
    "data = df.select(pl.col(\"area_fips\", \"date\", \"total_employment\", \"avg_wkly_wage\")).with_columns(controls=pl.when(pl.col(\"area_fips\") == \"i06081\").then(True).otherwise(False)).to_pandas()\n",
    "data[\"date\"] = pd.PeriodIndex(df['date'], freq='Q').to_timestamp()\n",
    "data['after_treatment'] = data['date'] > pd.to_datetime('2016-01-01')\n",
    "data = data[(data[\"area_fips\"].isin(controls)) | (data[\"area_fips\"] == \"i06081\")].reset_index(drop=True)\n",
    "# data = data[(data[\"area_fips\"].str.startswith(\"i06\")) | (data[\"area_fips\"] == \"i06081\")].reset_index(drop=True)\n",
    "data = data[(data[\"avg_wkly_wage\"] != 0) & (data[\"avg_wkly_wage\"].notnull()) ].reset_index(drop=True)\n",
    "data = data.sort_values(\"date\")\n",
    "data"
   ]
  },
  {
   "cell_type": "code",
   "execution_count": null,
   "id": "9ffd14b8",
   "metadata": {},
   "outputs": [],
   "source": [
    "features = [\"total_employment\"]\n",
    "pre_df = (\n",
    "    data\n",
    "    .query(\"~after_treatment\")\n",
    "    .pivot(index='area_fips', columns=\"date\", values=features)\n",
    "    .T\n",
    ").dropna(axis=1)\n",
    "\n",
    "post_df = (\n",
    "    data\n",
    "    .query(\"after_treatment\")\n",
    "    .pivot(index='area_fips', columns=\"date\", values=features)\n",
    "    .T\n",
    ")\n",
    "pre_df = pre_df.dropna(axis=1)\n",
    "post_df = post_df.dropna(axis=1)\n",
    "\n",
    "controls = list(set(pre_df.columns) & set(post_df.columns))\n",
    "\n",
    "pre_df = pre_df[controls]\n",
    "post_df = post_df[controls]\n"
   ]
  },
  {
   "cell_type": "code",
   "execution_count": null,
   "id": "b9647fcf",
   "metadata": {},
   "outputs": [],
   "source": [
    "data = data[data[\"area_fips\"].isin(controls)].reset_index(drop=True)\n",
    "data"
   ]
  },
  {
   "cell_type": "code",
   "execution_count": null,
   "id": "90bb8234",
   "metadata": {},
   "outputs": [],
   "source": [
    "fig, ax = plt.subplots()\n",
    "\n",
    "(\n",
    "    data.groupby([\"date\", \"controls\"], as_index=False)\n",
    "    .agg({\"total_employment\": \"mean\"})\n",
    "    .pipe(\n",
    "        (sns.lineplot, \"data\"),\n",
    "        x=\"date\",\n",
    "        y=\"total_employment\",\n",
    "        hue=\"controls\",\n",
    "        marker=\"o\",\n",
    "        ax=ax,\n",
    "    )\n",
    ")\n",
    "ax.axvline(\n",
    "    x=pd.to_datetime(\"2016-01-01\"),\n",
    "    linestyle=\":\",\n",
    "    lw=2,\n",
    "    color=\"C2\",\n",
    "    label=\"Iplementation of minimum wage\",\n",
    ")\n",
    "\n",
    "ax.legend(loc=\"upper right\")\n",
    "ax.set(\n",
    "    title=\"Employment\",\n",
    "    ylabel=\"total employment trend Trend\"\n",
    ")\n"
   ]
  },
  {
   "cell_type": "code",
   "execution_count": null,
   "id": "b54c7fd0",
   "metadata": {},
   "outputs": [],
   "source": [
    "features = [\"total_employment\"]\n",
    "\n",
    "inverted = (data.query(\"~after_treatment\")\n",
    "    .pivot(index='area_fips', columns=\"date\", values=features)\n",
    "    .T)\n",
    "inverted"
   ]
  },
  {
   "cell_type": "code",
   "execution_count": null,
   "id": "2629a826",
   "metadata": {},
   "outputs": [],
   "source": [
    "y = inverted[\"i06081\"].values \n",
    "X = inverted.drop(columns=\"i06081\").values "
   ]
  },
  {
   "cell_type": "code",
   "execution_count": null,
   "id": "79c91394",
   "metadata": {},
   "outputs": [],
   "source": [
    "from typing import List\n",
    "from operator import add\n",
    "from toolz import reduce, partial\n",
    "\n",
    "def loss_w(W, X, y) -> float:\n",
    "    return np.sqrt(np.mean((y - X.dot(W))**2))"
   ]
  },
  {
   "cell_type": "code",
   "execution_count": null,
   "id": "e48c92e9",
   "metadata": {},
   "outputs": [],
   "source": [
    "from scipy.optimize import fmin_slsqp\n",
    "\n",
    "def get_w(X, y):\n",
    "    \n",
    "    w_start = [1/X.shape[1]]*X.shape[1]\n",
    "\n",
    "    weights = fmin_slsqp(partial(loss_w, X=X, y=y),\n",
    "                         np.array(w_start),\n",
    "                         f_eqcons=lambda x: np.sum(x) - 1,\n",
    "                         bounds=[(0.0, 1.0)]*len(w_start),\n",
    "                         disp=False)\n",
    "    return weights"
   ]
  },
  {
   "cell_type": "code",
   "execution_count": null,
   "id": "c4a367eb",
   "metadata": {},
   "outputs": [],
   "source": [
    "calif_weights = get_w(X, y)\n",
    "print(\"Sum:\", calif_weights.sum())\n",
    "np.round(calif_weights, 4)"
   ]
  },
  {
   "cell_type": "code",
   "execution_count": null,
   "id": "00af1fb4",
   "metadata": {},
   "outputs": [],
   "source": [
    "calif_synth = data.query(\"~controls\").pivot(index='date', columns=\"area_fips\")[\"total_employment\"].values.dot(calif_weights) \n",
    "calif_synth"
   ]
  },
  {
   "cell_type": "code",
   "execution_count": null,
   "id": "04b49ed4",
   "metadata": {},
   "outputs": [],
   "source": [
    "plt.figure(figsize=(10,6))\n",
    "plt.plot(data.query(\"controls\")[\"date\"], data.query(\"controls\")[\"total_employment\"], label=\"California\")\n",
    "plt.plot(data.query(\"controls\")[\"date\"], calif_synth, label=\"Synthetic Control\")\n",
    "# plt.vlines(x=pd.to_datetime(\"2016-01-01\"), ymin=0, ymax=10.5, linestyle=\":\", lw=2, label=\"Proposition 99\")\n",
    "plt.ylabel(\"Per-capita cigarette sales (in packs)\")\n",
    "plt.legend()"
   ]
  }
 ],
 "metadata": {
  "kernelspec": {
   "display_name": ".venv",
   "language": "python",
   "name": "python3"
  },
  "language_info": {
   "codemirror_mode": {
    "name": "ipython",
    "version": 3
   },
   "file_extension": ".py",
   "mimetype": "text/x-python",
   "name": "python",
   "nbconvert_exporter": "python",
   "pygments_lexer": "ipython3",
   "version": "3.10.18"
  }
 },
 "nbformat": 4,
 "nbformat_minor": 5
}
